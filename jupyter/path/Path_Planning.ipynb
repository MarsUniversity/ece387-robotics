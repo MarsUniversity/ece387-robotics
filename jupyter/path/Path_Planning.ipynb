{
 "cells": [
  {
   "cell_type": "markdown",
   "metadata": {},
   "source": [
    "# Path Planning\n",
    "\n",
    "----\n",
    "\n",
    "Based off Sabastian Thur's Robotic course, Udacity.com\n",
    "\n",
    "- [Standford DARPA Grand Challenge](https://www.youtube.com/watch?v=qXZt-B7iUyw)\n",
    "- [RedGames blog, deep dive on A\\*](http://www.redblobgames.com/pathfinding/a-star/implementation.html)"
   ]
  },
  {
   "cell_type": "code",
   "execution_count": 80,
   "metadata": {
    "collapsed": true
   },
   "outputs": [],
   "source": [
    "from __future__ import division, print_function\n",
    "\n",
    "def printMap(rmap):\n",
    "    rows = len(rmap)\n",
    "    cols = len(rmap[0])\n",
    "    form = []\n",
    "    for i in rmap[0]:\n",
    "        form.append('{:4}')\n",
    "    form = ' '.join(form)\n",
    "    \n",
    "    print(\"\")\n",
    "    print('--[ Map {} x {} ]----------'.format(rows, cols))\n",
    "    for line in rmap:\n",
    "        print(form.format(*line))\n",
    "\n",
    "def getPath(expand, goal, start, wall=-1):\n",
    "    path = []\n",
    "    x, y = goal\n",
    "    val = expand[x][y]\n",
    "    delta = [\n",
    "        [-1, 0 ], # go up\n",
    "        [ 0, -1], # go left\n",
    "        [ 1, 0 ], # go down\n",
    "        [ 0, 1 ]  # go right\n",
    "    ]\n",
    "    done = False\n",
    "    max_x_grid = len(grid)\n",
    "    max_y_grid = len(grid[0])\n",
    "    \n",
    "    path.append(goal)\n",
    "    \n",
    "    while not done:\n",
    "        vals = []\n",
    "        for move in delta:\n",
    "            x2, y2 = x + move[0], y + move[1]\n",
    "            # make sure still on map\n",
    "            if x2 >= 0 and x2 < max_x_grid and y2 >=0 and y2 < max_y_grid:\n",
    "                if expand[x2][y2] > wall:  # don't travel through walls\n",
    "                    val = expand[x2][y2]\n",
    "                    vals.append((val, move))\n",
    "\n",
    "        lowest = 100000\n",
    "        for v, m in vals:\n",
    "            if v < lowest:\n",
    "                move = m\n",
    "                lowest = v\n",
    "\n",
    "        x, y = x + move[0], y + move[1]\n",
    "        path.append([x, y])\n",
    "#         print(x,y)\n",
    "        \n",
    "        if x == start[0] and y == start[1]:\n",
    "            done = True\n",
    "#             print('Done!!')\n",
    "        \n",
    "    return path"
   ]
  },
  {
   "cell_type": "code",
   "execution_count": null,
   "metadata": {
    "collapsed": true
   },
   "outputs": [],
   "source": []
  },
  {
   "cell_type": "code",
   "execution_count": 84,
   "metadata": {
    "collapsed": true
   },
   "outputs": [],
   "source": [
    "def simple_search(grid,init,goal,cost):\n",
    "    closed = [[0 for row in range(len(grid[0]))] for col in range(len(grid))]\n",
    "    closed[init[0]][init[1]] = 1\n",
    "    \n",
    "    open = [[0, init[0], init[1]]]\n",
    "\n",
    "    found = False  # flag that is set when search is complete\n",
    "    resign = False # flag set if we can't find expand\n",
    "    \n",
    "    while not found and not resign:\n",
    "        if len(open) == 0:\n",
    "            print('<<< Fail: cannot find path to goal >>>')\n",
    "            resign = True\n",
    "        else:\n",
    "            # remove node from list\n",
    "            open.sort()  # sorts from small to large\n",
    "            open.reverse()  # reverses: large to small\n",
    "            next = open.pop()  # removes last element (smallest number)\n",
    "            g, x, y = next\n",
    "            \n",
    "            if x == goal[0] and y == goal[1]:\n",
    "                found = True\n",
    "                print('found:', next)\n",
    "            else:\n",
    "                # cycle through possible movements\n",
    "                for d in delta:\n",
    "                    x2, y2 = x+d[0], y+d[1]\n",
    "                    if x2 >= 0 and x2 < len(grid) and y2 >= 0 and y2 < len(grid[0]):\n",
    "                        # check unoccupied\n",
    "                        if closed[x2][y2] == 0 and grid[x2][y2] == 0:\n",
    "                            g2 = g + cost  # increment g value\n",
    "                            open.append([g2, x2, y2])\n",
    "                            closed[x2][y2] = g2\n",
    "\n",
    "    return closed"
   ]
  },
  {
   "cell_type": "code",
   "execution_count": 85,
   "metadata": {},
   "outputs": [
    {
     "name": "stdout",
     "output_type": "stream",
     "text": [
      "\n",
      "--[ Map 5 x 6 ]----------\n",
      "   0    0    1    0    0    0\n",
      "   0    0    1    0    0    0\n",
      "   0    0    1    0    1    0\n",
      "   0    0    1    1    1    0\n",
      "   0    0    0    0    1    0\n",
      "\n",
      "--[ Map 1 x 1 ]----------\n",
      "   1\n",
      "Fail\n",
      "\n",
      "--[ Map 5 x 6 ]----------\n",
      "   1    1    0    0    0    0\n",
      "   1    2    0    0    0    0\n",
      "   2    3    0    0    0    0\n",
      "   3    4    0    0    0    0\n",
      "   4    5    6    7    0    0\n",
      "start [0, 0]\n",
      "goal [4, 5]\n"
     ]
    },
    {
     "ename": "KeyboardInterrupt",
     "evalue": "",
     "output_type": "error",
     "traceback": [
      "\u001b[1;31m\u001b[0m",
      "\u001b[1;31mKeyboardInterrupt\u001b[0mTraceback (most recent call last)",
      "\u001b[1;32m<ipython-input-85-5279a0eb887f>\u001b[0m in \u001b[0;36m<module>\u001b[1;34m()\u001b[0m\n\u001b[0;32m     27\u001b[0m \u001b[1;32mprint\u001b[0m\u001b[1;33m(\u001b[0m\u001b[1;34m'start'\u001b[0m\u001b[1;33m,\u001b[0m \u001b[0minit\u001b[0m\u001b[1;33m)\u001b[0m\u001b[1;33m\u001b[0m\u001b[0m\n\u001b[0;32m     28\u001b[0m \u001b[1;32mprint\u001b[0m\u001b[1;33m(\u001b[0m\u001b[1;34m'goal'\u001b[0m\u001b[1;33m,\u001b[0m \u001b[0mgoal\u001b[0m\u001b[1;33m)\u001b[0m\u001b[1;33m\u001b[0m\u001b[0m\n\u001b[1;32m---> 29\u001b[1;33m \u001b[0mgetPath\u001b[0m\u001b[1;33m(\u001b[0m\u001b[0mans\u001b[0m\u001b[1;33m,\u001b[0m \u001b[0mgoal\u001b[0m\u001b[1;33m,\u001b[0m \u001b[0minit\u001b[0m\u001b[1;33m,\u001b[0m\u001b[1;36m0\u001b[0m\u001b[1;33m)\u001b[0m\u001b[1;33m\u001b[0m\u001b[0m\n\u001b[0m",
      "\u001b[1;32m<ipython-input-80-a3fe716ace46>\u001b[0m in \u001b[0;36mgetPath\u001b[1;34m(expand, goal, start, wall)\u001b[0m\n\u001b[0;32m     33\u001b[0m         \u001b[0mvals\u001b[0m \u001b[1;33m=\u001b[0m \u001b[1;33m[\u001b[0m\u001b[1;33m]\u001b[0m\u001b[1;33m\u001b[0m\u001b[0m\n\u001b[0;32m     34\u001b[0m         \u001b[1;32mfor\u001b[0m \u001b[0mmove\u001b[0m \u001b[1;32min\u001b[0m \u001b[0mdelta\u001b[0m\u001b[1;33m:\u001b[0m\u001b[1;33m\u001b[0m\u001b[0m\n\u001b[1;32m---> 35\u001b[1;33m             \u001b[0mx2\u001b[0m\u001b[1;33m,\u001b[0m \u001b[0my2\u001b[0m \u001b[1;33m=\u001b[0m \u001b[0mx\u001b[0m \u001b[1;33m+\u001b[0m \u001b[0mmove\u001b[0m\u001b[1;33m[\u001b[0m\u001b[1;36m0\u001b[0m\u001b[1;33m]\u001b[0m\u001b[1;33m,\u001b[0m \u001b[0my\u001b[0m \u001b[1;33m+\u001b[0m \u001b[0mmove\u001b[0m\u001b[1;33m[\u001b[0m\u001b[1;36m1\u001b[0m\u001b[1;33m]\u001b[0m\u001b[1;33m\u001b[0m\u001b[0m\n\u001b[0m\u001b[0;32m     36\u001b[0m             \u001b[1;31m# make sure still on map\u001b[0m\u001b[1;33m\u001b[0m\u001b[1;33m\u001b[0m\u001b[0m\n\u001b[0;32m     37\u001b[0m             \u001b[1;32mif\u001b[0m \u001b[0mx2\u001b[0m \u001b[1;33m>=\u001b[0m \u001b[1;36m0\u001b[0m \u001b[1;32mand\u001b[0m \u001b[0mx2\u001b[0m \u001b[1;33m<\u001b[0m \u001b[0mmax_x_grid\u001b[0m \u001b[1;32mand\u001b[0m \u001b[0my2\u001b[0m \u001b[1;33m>=\u001b[0m\u001b[1;36m0\u001b[0m \u001b[1;32mand\u001b[0m \u001b[0my2\u001b[0m \u001b[1;33m<\u001b[0m \u001b[0mmax_y_grid\u001b[0m\u001b[1;33m:\u001b[0m\u001b[1;33m\u001b[0m\u001b[0m\n",
      "\u001b[1;31mKeyboardInterrupt\u001b[0m: "
     ]
    }
   ],
   "source": [
    "grid = [[0, 0, 1, 0, 0, 0],\n",
    "        [0, 0, 1, 0, 0, 0],\n",
    "        [0, 0, 1, 0, 1, 0],\n",
    "        [0, 0, 1, 1, 1, 0],\n",
    "        [0, 0, 0, 0, 1, 0]\n",
    "       ]\n",
    "\n",
    "init = [0, 0]\n",
    "goal = [4, 5]\n",
    "\n",
    "# delta = [[-1, 0], # go up\n",
    "#          [ 0,-1], # go left\n",
    "#          [ 1, 0], # go down\n",
    "#          [ 0, 1]] # go right\n",
    "\n",
    "# grid2 = [[0, 1, 0, 0, 0, 0],\n",
    "#         [0, 1, 0, 0, 0, 0],\n",
    "#         [0, 1, 0, 0, 0, 0],\n",
    "#         [0, 1, 0, 0, 0, 0],\n",
    "#         [0, 0, 0, 0, 1, 0]]\n",
    "\n",
    "goal2 = [len(grid)-1, len(grid[0])-1]\n",
    "printMap(grid)\n",
    "printMap([[1]])\n",
    "ans = simple_search(grid, init, goal, 1)\n",
    "printMap(ans)\n",
    "print('start', init)\n",
    "print('goal', goal)\n",
    "getPath(ans, goal, init,0)"
   ]
  },
  {
   "cell_type": "code",
   "execution_count": null,
   "metadata": {},
   "outputs": [],
   "source": []
  },
  {
   "cell_type": "code",
   "execution_count": null,
   "metadata": {
    "collapsed": true
   },
   "outputs": [],
   "source": []
  },
  {
   "cell_type": "code",
   "execution_count": null,
   "metadata": {
    "collapsed": true
   },
   "outputs": [],
   "source": []
  },
  {
   "cell_type": "code",
   "execution_count": null,
   "metadata": {
    "collapsed": true
   },
   "outputs": [],
   "source": []
  },
  {
   "cell_type": "code",
   "execution_count": null,
   "metadata": {
    "collapsed": true
   },
   "outputs": [],
   "source": []
  },
  {
   "cell_type": "code",
   "execution_count": 40,
   "metadata": {},
   "outputs": [],
   "source": [
    "# -----------\n",
    "# User Instructions:\n",
    "#\n",
    "# Modify the the search function so that it becomes\n",
    "# an A* search algorithm as defined in the previous\n",
    "# lectures.\n",
    "#\n",
    "# Your function should return the expanded grid\n",
    "# which shows, for each element, the count when\n",
    "# it was expanded or -1 if the element was never expanded.\n",
    "# \n",
    "# If there is no path from init to goal,\n",
    "# the function should return the string 'fail'\n",
    "# ----------\n",
    "\n",
    "grid = [[0, 1, 0, 0, 0, 0],\n",
    "        [0, 1, 0, 0, 0, 0],\n",
    "        [0, 1, 0, 0, 0, 0],\n",
    "        [0, 1, 0, 0, 0, 0],\n",
    "        [0, 0, 0, 0, 1, 0]]\n",
    "heuristic = [[9, 8, 7, 6, 5, 4],\n",
    "             [8, 7, 6, 5, 4, 3],\n",
    "             [7, 6, 5, 4, 3, 2],\n",
    "             [6, 5, 4, 3, 2, 1],\n",
    "             [5, 4, 3, 2, 1, 0]]\n",
    "\n",
    "init = [0, 0]\n",
    "goal = [len(grid)-1, len(grid[0])-1]\n",
    "cost = 1\n",
    "\n",
    "delta = [[-1, 0 ], # go up\n",
    "         [ 0, -1], # go left\n",
    "         [ 1, 0 ], # go down\n",
    "         [ 0, 1 ]] # go right\n",
    "\n",
    "delta_name = ['^', '<', 'v', '>']\n",
    "\n",
    "def a_star(grid,init,goal,cost,heuristic):\n",
    "    # ----------------------------------------\n",
    "    # modify the code below\n",
    "    # ----------------------------------------\n",
    "    closed = [[0 for col in range(len(grid[0]))] for row in range(len(grid))]\n",
    "    closed[init[0]][init[1]] = 1\n",
    "\n",
    "    expand = [[-1 for col in range(len(grid[0]))] for row in range(len(grid))]\n",
    "    action = [[-1 for col in range(len(grid[0]))] for row in range(len(grid))]\n",
    "\n",
    "    x = init[0]\n",
    "    y = init[1]\n",
    "    g = 0\n",
    "    h = heuristic[x][y]\n",
    "    f = g + h\n",
    "\n",
    "    open = [[f, g, x, y]]  # add f\n",
    "\n",
    "    found = False  # flag that is set when search is complete\n",
    "    resign = False # flag set if we can't find expand\n",
    "    count = 0\n",
    "    \n",
    "    while not found and not resign:\n",
    "        if len(open) == 0:\n",
    "            resign = True\n",
    "            return \"Fail\"\n",
    "        else:\n",
    "            open.sort()\n",
    "            open.reverse()\n",
    "            next = open.pop()\n",
    "            x = next[2]\n",
    "            y = next[3]\n",
    "            g = next[1]\n",
    "            expand[x][y] = count\n",
    "            count += 1\n",
    "            \n",
    "            if x == goal[0] and y == goal[1]:\n",
    "                found = True\n",
    "            else:\n",
    "                # expand winning element and add to new open list\n",
    "                for i in range(len(delta)):\n",
    "                    x2 = x + delta[i][0]\n",
    "                    y2 = y + delta[i][1]\n",
    "                    # make sure still on map\n",
    "                    if x2 >= 0 and x2 < len(grid) and y2 >=0 and y2 < len(grid[0]):\n",
    "                        # make sure unoccuppied\n",
    "                        if closed[x2][y2] == 0 and grid[x2][y2] == 0:\n",
    "                            g2 = g + cost\n",
    "                            h2 = heuristic[x2][y2]\n",
    "                            f2 = g2 + h2\n",
    "                            open.append([f2, g2, x2, y2])\n",
    "                            closed[x2][y2] = 1\n",
    "\n",
    "    return expand"
   ]
  },
  {
   "cell_type": "code",
   "execution_count": null,
   "metadata": {},
   "outputs": [],
   "source": []
  },
  {
   "cell_type": "code",
   "execution_count": null,
   "metadata": {
    "collapsed": true
   },
   "outputs": [],
   "source": []
  },
  {
   "cell_type": "code",
   "execution_count": 69,
   "metadata": {},
   "outputs": [
    {
     "name": "stdout",
     "output_type": "stream",
     "text": [
      "\n",
      "--[ Map 5 x 6 ]----------\n",
      "   0   -1   14   18   -1   -1\n",
      "   1   -1   11   15   19   -1\n",
      "   2   -1    9   12   16   20\n",
      "   3   -1    7   10   13   17\n",
      "   4    5    6    8   -1   21\n",
      "start [0, 0]\n",
      "goal [4, 5]\n"
     ]
    },
    {
     "data": {
      "text/plain": [
       "[[4, 5],\n",
       " [3, 5],\n",
       " [3, 4],\n",
       " [3, 3],\n",
       " [3, 2],\n",
       " [4, 2],\n",
       " [4, 1],\n",
       " [4, 0],\n",
       " [3, 0],\n",
       " [2, 0],\n",
       " [1, 0],\n",
       " [0, 0]]"
      ]
     },
     "execution_count": 69,
     "metadata": {},
     "output_type": "execute_result"
    }
   ],
   "source": [
    "grid2 = [[0, 1, 0, 0, 0, 0],\n",
    "        [0, 1, 0, 0, 0, 0],\n",
    "        [0, 1, 0, 0, 0, 0],\n",
    "        [0, 1, 0, 0, 0, 0],\n",
    "        [0, 0, 0, 0, 1, 0]]\n",
    "\n",
    "goal2 = [len(grid)-1, len(grid[0])-1]\n",
    "\n",
    "# go back to the preivous simple search\n",
    "h_empty = [[0 for row in range(len(grid[0]))] for col in range(len(grid))]\n",
    "# heuristic = h_empty\n",
    "\n",
    "ans = search(grid2,init,goal2,cost,heuristic)\n",
    "printMap(ans)\n",
    "print('start', init)\n",
    "print('goal', goal2)\n",
    "getPath(ans, goal2, init)"
   ]
  },
  {
   "cell_type": "code",
   "execution_count": null,
   "metadata": {
    "collapsed": true
   },
   "outputs": [],
   "source": []
  }
 ],
 "metadata": {
  "kernelspec": {
   "display_name": "Python 2",
   "language": "python",
   "name": "python2"
  },
  "language_info": {
   "codemirror_mode": {
    "name": "ipython",
    "version": 2
   },
   "file_extension": ".py",
   "mimetype": "text/x-python",
   "name": "python",
   "nbconvert_exporter": "python",
   "pygments_lexer": "ipython2",
   "version": "2.7.13"
  }
 },
 "nbformat": 4,
 "nbformat_minor": 2
}

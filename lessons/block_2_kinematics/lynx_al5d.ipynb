{
 "cells": [
  {
   "cell_type": "markdown",
   "metadata": {},
   "source": [
    "# Lynx Motion AL5D\n",
    "\n",
    "![](dh_pics/linx_motion_al5d.jpg)\n",
    "\n",
    "| Dir    | PWM  |\n",
    "|--------|------|\n",
    "|CCW_max | 1200 |\n",
    "|Center  | 1500 |\n",
    "|CW_max  | 1800 |"
   ]
  },
  {
   "cell_type": "code",
   "execution_count": 1,
   "metadata": {
    "collapsed": true
   },
   "outputs": [],
   "source": [
    "%matplotlib inline"
   ]
  },
  {
   "cell_type": "code",
   "execution_count": 5,
   "metadata": {
    "collapsed": true
   },
   "outputs": [],
   "source": [
    "from __future__ import print_function\n",
    "from __future__ import division\n",
    "import numpy as np\n",
    "from sympy import symbols, sin, cos, simplify, trigsimp, pi\n",
    "from math import radians as d2r\n",
    "from math import degrees as r2d\n",
    "from math import atan2, sqrt, acos, fabs"
   ]
  },
  {
   "cell_type": "code",
   "execution_count": 6,
   "metadata": {
    "collapsed": true
   },
   "outputs": [],
   "source": [
    "class mDH(object):\n",
    "    \"\"\"\n",
    "    This uses the modified DH parameters\n",
    "    see Craig, eqn (3.6)\n",
    "    \"\"\"\n",
    "    def __init__(self):\n",
    "        pass\n",
    "\n",
    "    def fk(self, params):\n",
    "        t = np.eye(4)\n",
    "        for p in params:\n",
    "            t = t.dot(self.makeT(*p))\n",
    "        return t\n",
    "\n",
    "    def makeT(self, a, alpha, d, theta):\n",
    "#         alpha = d2r(alpha)\n",
    "#         theta = d2r(theta)\n",
    "        return np.array([  # classic DH\n",
    "            [           cos(theta),           -sin(theta),           0,             a],\n",
    "            [sin(theta)*cos(alpha), cos(theta)*cos(alpha), -sin(alpha), -d*sin(alpha)],\n",
    "            [sin(theta)*sin(alpha), cos(theta)*sin(alpha),  cos(alpha),  d*cos(alpha)],\n",
    "            [                    0,                     0,           0,             1]\n",
    "        ])\n",
    "\n",
    "def eval(f):\n",
    "    \"\"\"\n",
    "    This allows you to simplify the trigonomic mess that kinematics can\n",
    "    create and also substitute in some inputs in the process\n",
    "    \"\"\"\n",
    "    c = []\n",
    "    for row in f:\n",
    "        r = []\n",
    "        for col in row:\n",
    "            # use python symbolic toolbox to simplify the trig mess above \n",
    "            r.append(simplify(col))\n",
    "        c.append(r)\n",
    "    return np.array(c)\n",
    "\n",
    "def subs(f, m):\n",
    "    \"\"\"\n",
    "    This allows you to simplify the trigonomic mess that kinematics can\n",
    "    create and also substitute in some inputs in the process\n",
    "    \"\"\"\n",
    "    c = []\n",
    "    for row in f:\n",
    "        r = []\n",
    "        for col in row:\n",
    "            r.append(col.subs(m))\n",
    "        c.append(r)\n",
    "    return np.array(c)"
   ]
  },
  {
   "cell_type": "markdown",
   "metadata": {},
   "source": [
    "The DH parameters are:\n",
    "\n",
    "| i |$a_i$        | $\\alpha_i$   | $d_i$   | $theta_i$  |\n",
    "|---|-------------|--------------|---------|------------|\n",
    "| 1 | 0           | 0            | $d_2$   | $\\theta_1$ |\n",
    "| 2 | 0           |$\\frac{\\pi}{2}$| 0       | $\\theta_2$ |\n",
    "| 3 | $a_3$       | 0            | 0       | $\\theta_3$ |\n",
    "| 4 | $a_4$       | 0            | 0       | $\\theta_4$ |\n",
    "| 5 | $a_5$       | 0            | 0       |          0 |"
   ]
  },
  {
   "cell_type": "code",
   "execution_count": 15,
   "metadata": {
    "collapsed": true
   },
   "outputs": [],
   "source": [
    "t1, t2, t3, t4 = symbols('t1 t2 t3 t4')\n",
    "# a2, a3, a4, a5 = symbols('a2 a3 a4 a5')\n",
    "\n",
    "# t1 - base\n",
    "# t2 - shoulder\n",
    "# t3 - elbow\n",
    "# t4 - wrist\n",
    "\n",
    "# a2 = 2.75   # base to shoulder\n",
    "a2 = 0.0\n",
    "a3 = 5.75   # shoulder to elbow\n",
    "a4 = 7.375  # elbow to wrist\n",
    "a5 = 3.375  # wrist to end effector\n",
    "\n",
    "# put all angles in rads\n",
    "# sybolic can't handle converting a symbol using d2r()\n",
    "# a, alpha, d, theta\n",
    "params = [\n",
    "    [    0,    0,    a2, t1],\n",
    "    [    0, pi/2,   0, t2],\n",
    "    [   a3,    0,    0, t3],\n",
    "    [   a4,    0,    0, t4],\n",
    "    [   a5,    0,    0,  0]\n",
    "]\n",
    "# params = [\n",
    "#     [       0,    0, 2.75, t1],\n",
    "#     [       0, pi/2,    0, t2],\n",
    "#     [    5.75,    0,    0, t3],\n",
    "#     [   7.375,    0,    0, t4],\n",
    "#     [   3.375,    0,    0,  0]\n",
    "# ]\n",
    "dh = mDH()\n",
    "al5d = dh.fk(params)\n",
    "al5d = eval(al5d)"
   ]
  },
  {
   "cell_type": "code",
   "execution_count": 16,
   "metadata": {
    "collapsed": true
   },
   "outputs": [],
   "source": [
    "def printT(tt):\n",
    "    R = tt[0:3,0:3]\n",
    "    D = tt[0:3, 3]\n",
    "    print('-'*30)\n",
    "    print('Position:')\n",
    "    print('  x:', D[0])\n",
    "    print('  y:', D[1])\n",
    "    print('  z:', D[2])\n",
    "    # R(n, o, a)\n",
    "    print('-'*30)\n",
    "    print('Orientation')\n",
    "    print('  nx:', R[0,0])\n",
    "    print('  ny:', R[0,1])\n",
    "    print('  nz:', R[0,2])\n",
    "    print('')\n",
    "    print('  ox:', R[1,0])\n",
    "    print('  oy:', R[1,1])\n",
    "    print('  oz:', R[1,2])\n",
    "    print('')\n",
    "    print('  ax:', R[2,0])\n",
    "    print('  ay:', R[2,1])\n",
    "    print('  az:', R[2,2])"
   ]
  },
  {
   "cell_type": "code",
   "execution_count": 17,
   "metadata": {},
   "outputs": [
    {
     "name": "stdout",
     "output_type": "stream",
     "text": [
      "------------------------------\n",
      "Position:\n",
      "  x: (5.75*cos(t2) + 7.375*cos(t2 + t3) + 3.375*cos(t2 + t3 + t4))*cos(t1)\n",
      "  y: (5.75*cos(t2) + 7.375*cos(t2 + t3) + 3.375*cos(t2 + t3 + t4))*sin(t1)\n",
      "  z: 5.75*sin(t2) + 7.375*sin(t2 + t3) + 3.375*sin(t2 + t3 + t4)\n",
      "------------------------------\n",
      "Orientation\n",
      "  nx: 1.0*cos(t1)*cos(t2 + t3 + t4)\n",
      "  ny: -1.0*sin(t2 + t3 + t4)*cos(t1)\n",
      "  nz: 1.0*sin(t1)\n",
      "\n",
      "  ox: 1.0*sin(t1)*cos(t2 + t3 + t4)\n",
      "  oy: -1.0*sin(t1)*sin(t2 + t3 + t4)\n",
      "  oz: -1.0*cos(t1)\n",
      "\n",
      "  ax: 1.0*sin(t2 + t3 + t4)\n",
      "  ay: 1.0*cos(t2 + t3 + t4)\n",
      "  az: 0\n"
     ]
    }
   ],
   "source": [
    "printT(al5d)"
   ]
  },
  {
   "cell_type": "code",
   "execution_count": 18,
   "metadata": {},
   "outputs": [
    {
     "name": "stdout",
     "output_type": "stream",
     "text": [
      "------------------------------\n",
      "Position:\n",
      "  x: 10.7500000000000\n",
      "  y: 0\n",
      "  z: 5.75000000000000\n",
      "------------------------------\n",
      "Orientation\n",
      "  nx: 1.00000000000000\n",
      "  ny: 0\n",
      "  nz: 0\n",
      "\n",
      "  ox: 0\n",
      "  oy: 0\n",
      "  oz: -1.00000000000000\n",
      "\n",
      "  ax: 0\n",
      "  ay: 1.00000000000000\n",
      "  az: 0\n"
     ]
    }
   ],
   "source": [
    "# dir(al5d)\n",
    "simp=subs(al5d, [(t1,0.0),(t2,pi/2), (t3, -pi/2), (t4, 0.0)])\n",
    "printT(simp)"
   ]
  },
  {
   "cell_type": "code",
   "execution_count": 23,
   "metadata": {},
   "outputs": [
    {
     "name": "stdout",
     "output_type": "stream",
     "text": [
      "------------------------------\n",
      "Position:\n",
      "  x: 4.99939253874888\n",
      "  y: 0\n",
      "  z: 0.00401799231949518\n",
      "------------------------------\n",
      "Orientation\n",
      "  nx: -1.60812264967664e-16\n",
      "  ny: 1.00000000000000\n",
      "  nz: 0\n",
      "\n",
      "  ox: 0\n",
      "  oy: 0\n",
      "  oz: -1.00000000000000\n",
      "\n",
      "  ax: -1.00000000000000\n",
      "  ay: -1.60812264967664e-16\n",
      "  az: 0\n"
     ]
    }
   ],
   "source": [
    "simp=subs(al5d, [(t1,0.0),(t2,d2r(111.5)), (t3, d2r(-127)), (t4, d2r(-74.5))])\n",
    "printT(simp)"
   ]
  },
  {
   "cell_type": "code",
   "execution_count": null,
   "metadata": {
    "collapsed": true
   },
   "outputs": [],
   "source": []
  },
  {
   "cell_type": "markdown",
   "metadata": {},
   "source": [
    "# Inverse Kinematics"
   ]
  },
  {
   "cell_type": "code",
   "execution_count": 11,
   "metadata": {
    "collapsed": true
   },
   "outputs": [],
   "source": [
    "ca, sa, px, py, pz = symbols('ca sa px py pz')\n",
    "desired = np.array([\n",
    "    [ ca,  0, sa, px],\n",
    "    [-sa,  0, ca, py],\n",
    "    [  0, -1,  0, pz],\n",
    "    [  0,  0,  0,  1]\n",
    "])"
   ]
  },
  {
   "cell_type": "code",
   "execution_count": 20,
   "metadata": {
    "collapsed": true
   },
   "outputs": [],
   "source": [
    "params = [\n",
    "    [   0.0, pi/2,  0, t2],\n",
    "    [  5.75,    0,  0, t3],\n",
    "    [ 7.375,    0,  0, t4],\n",
    "    [ 3.375,    0,  0,  0]\n",
    "]\n",
    "dh = mDH()\n",
    "plane = dh.fk(params)\n",
    "plane = eval(plane)"
   ]
  },
  {
   "cell_type": "code",
   "execution_count": 21,
   "metadata": {},
   "outputs": [
    {
     "name": "stdout",
     "output_type": "stream",
     "text": [
      "------------------------------\n",
      "Position:\n",
      "  x: 5.75*cos(t2) + 7.375*cos(t2 + t3) + 3.375*cos(t2 + t3 + t4)\n",
      "  y: 0\n",
      "  z: 5.75*sin(t2) + 7.375*sin(t2 + t3) + 3.375*sin(t2 + t3 + t4)\n",
      "------------------------------\n",
      "Orientation\n",
      "  nx: 1.0*cos(t2 + t3 + t4)\n",
      "  ny: -1.0*sin(t2 + t3 + t4)\n",
      "  nz: 0\n",
      "\n",
      "  ox: 0\n",
      "  oy: 0\n",
      "  oz: -1.00000000000000\n",
      "\n",
      "  ax: 1.0*sin(t2 + t3 + t4)\n",
      "  ay: 1.0*cos(t2 + t3 + t4)\n",
      "  az: 0\n"
     ]
    }
   ],
   "source": [
    "printT(plane)"
   ]
  },
  {
   "cell_type": "code",
   "execution_count": 13,
   "metadata": {},
   "outputs": [
    {
     "data": {
      "text/plain": [
       "19.25"
      ]
     },
     "execution_count": 13,
     "metadata": {},
     "output_type": "execute_result"
    }
   ],
   "source": [
    "a2+a3+a4+a5"
   ]
  },
  {
   "cell_type": "code",
   "execution_count": null,
   "metadata": {
    "collapsed": true
   },
   "outputs": [],
   "source": []
  },
  {
   "cell_type": "code",
   "execution_count": null,
   "metadata": {
    "collapsed": true
   },
   "outputs": [],
   "source": []
  },
  {
   "cell_type": "code",
   "execution_count": null,
   "metadata": {
    "collapsed": true
   },
   "outputs": [],
   "source": []
  },
  {
   "cell_type": "markdown",
   "metadata": {},
   "source": [
    "# Alt\n",
    "\n",
    "![](http://mathworld.wolfram.com/images/eps-gif/LawofCosines_1000.gif)\n",
    "\n",
    "$$\n",
    "a^2 = b^2 + c^2 - 2bc \\cos(A) \\rightarrow \\cos(A)=\\frac{-a^2+b^2+c^2}{2bc}\\\\\n",
    "b^2 = a^2 + c^2 - 2ac \\cos(B) \\rightarrow \\cos(B)=\\frac{a^2-b^2+c^2}{2ac}\\\\\n",
    "c^2 = a^2 + b^2 - 2ab \\cos(C) \\rightarrow \\cos(C)=\\frac{a^2+b^2-c^2}{2ab}\n",
    "$$\n",
    "\n",
    "[law cosines](http://mathworld.wolfram.com/LawofCosines.html)"
   ]
  },
  {
   "cell_type": "code",
   "execution_count": 53,
   "metadata": {
    "collapsed": true
   },
   "outputs": [],
   "source": [
    "from math import acos, asin, atan2, pi, sqrt\n",
    "\n",
    "x,y,z = (1,-5,0)\n",
    "\n",
    "theta1 = atan2(y,x)"
   ]
  },
  {
   "cell_type": "code",
   "execution_count": null,
   "metadata": {
    "collapsed": true
   },
   "outputs": [],
   "source": []
  },
  {
   "cell_type": "code",
   "execution_count": 54,
   "metadata": {},
   "outputs": [
    {
     "name": "stdout",
     "output_type": "stream",
     "text": [
      "theta_1: -78.69006752597979\n",
      "theta_2: 110.29619226285975\n",
      "theta_3: 53.823640611457044\n"
     ]
    }
   ],
   "source": [
    "gripper = 3.375\n",
    "zz = z + gripper\n",
    "b = 5.75\n",
    "a = 7.375\n",
    "g = sqrt(x**2+y**2)\n",
    "c = sqrt(g**2+zz**2)\n",
    "gamma = atan2(zz, g)\n",
    "A = acos((-a**2+b**2+c**2)/(2*b*c))\n",
    "theta2 = A+gamma\n",
    "theta3 = acos((a**2+b**2-c**2)/(2*a*b))\n",
    "\n",
    "print('theta_1: {}'.format(theta1*180/pi))\n",
    "print('theta_2: {}'.format(theta2*180/pi))\n",
    "print('theta_3: {}'.format(theta3*180/pi))"
   ]
  },
  {
   "cell_type": "code",
   "execution_count": 55,
   "metadata": {},
   "outputs": [
    {
     "name": "stdout",
     "output_type": "stream",
     "text": [
      "theta_4: 90.0\n"
     ]
    }
   ],
   "source": [
    "p=b*cos(theta2)\n",
    "q=b*sin(theta2)\n",
    "m=q-z\n",
    "n=c-p\n",
    "r=sqrt(a**2+gripper**2)\n",
    "theta4 = acos((a**2+gripper**2-r**2)/(2*a*gripper))\n",
    "print('theta_4: {}'.format(theta4*180/pi))"
   ]
  },
  {
   "cell_type": "code",
   "execution_count": 45,
   "metadata": {},
   "outputs": [
    {
     "data": {
      "text/plain": [
       "11"
      ]
     },
     "execution_count": 45,
     "metadata": {},
     "output_type": "execute_result"
    }
   ],
   "source": [
    "121-(180-70)"
   ]
  },
  {
   "cell_type": "code",
   "execution_count": null,
   "metadata": {
    "collapsed": true
   },
   "outputs": [],
   "source": []
  }
 ],
 "metadata": {
  "kernelspec": {
   "display_name": "Python 2",
   "language": "python",
   "name": "python2"
  },
  "language_info": {
   "codemirror_mode": {
    "name": "ipython",
    "version": 2
   },
   "file_extension": ".py",
   "mimetype": "text/x-python",
   "name": "python",
   "nbconvert_exporter": "python",
   "pygments_lexer": "ipython2",
   "version": "2.7.13"
  }
 },
 "nbformat": 4,
 "nbformat_minor": 2
}

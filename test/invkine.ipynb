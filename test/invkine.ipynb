{
 "cells": [
  {
   "cell_type": "code",
   "execution_count": null,
   "metadata": {
    "collapsed": true
   },
   "outputs": [],
   "source": []
  },
  {
   "cell_type": "code",
   "execution_count": 27,
   "metadata": {
    "collapsed": true
   },
   "outputs": [],
   "source": [
    "from __future__ import division\n",
    "from __future__ import print_function\n",
    "from math import atan2, acos, sqrt, pi, cos, sin"
   ]
  },
  {
   "cell_type": "code",
   "execution_count": 87,
   "metadata": {
    "collapsed": true
   },
   "outputs": [],
   "source": [
    "def cosine_law(a, b, c, phase=False):\n",
    "    if phase:\n",
    "        angle = ((c**2 - (a**2 + b**2))/(2*a*b))\n",
    "    else:\n",
    "        angle = ((c**2 - (a**2 + b**2))/(-2*a*b))\n",
    "    \n",
    "    print('cosine_law', angle)\n",
    "        \n",
    "    if angle > 1 or angle < -1:\n",
    "        raise Exception('angle outside range')\n",
    "    return acos(angle)\n",
    "\n",
    "\n",
    "def line(x1, y1, x2, y2):\n",
    "    return sqrt((x2-x1)**2 + (y2-y1)**2)\n",
    "\n",
    "\n",
    "def mag(a, b):\n",
    "    return sqrt(a**2 + b**2)\n",
    "\n",
    "def mag3(a, b, c):\n",
    "    return sqrt(a**2 + b**2 + c**2)"
   ]
  },
  {
   "cell_type": "code",
   "execution_count": 88,
   "metadata": {
    "collapsed": true
   },
   "outputs": [],
   "source": [
    "def inverse(x, y, z, o):\n",
    "    l1 = 5.75\n",
    "    l2 = 7.375\n",
    "    l3 = 3.375\n",
    "\n",
    "    # check workspace constraints\n",
    "    if z < 0:\n",
    "        raise Exception('z in ground')\n",
    "    elif mag3(x,y,z) > (l1 + l2 + l3):\n",
    "        raise Exception('out of reach')\n",
    "        \n",
    "    t1 = atan2(y, x)\n",
    "    \n",
    "    w = mag(x, y)\n",
    "    gamma = atan2(z, w)\n",
    "    r = mag(z, w)\n",
    "    \n",
    "    print('wrist', x-l3*cos(o), z-l3*sin(o))\n",
    "    \n",
    "    c = mag(x-l3*cos(o), z-l3*sin(o))\n",
    "\n",
    "    t3 = cosine_law(l1, l2, c, True)\n",
    "    \n",
    "    d = cosine_law(l2, c, l1)\n",
    "    e = cosine_law(c, l3, r)\n",
    "    t4 = pi - d - e\n",
    "    \n",
    "    alpha = cosine_law(l1, c, l2)\n",
    "    beta = cosine_law(c,r,l3)\n",
    "\n",
    "    t2 = alpha + beta + gamma\n",
    "\n",
    "    ans = []\n",
    "    for a in (t1, t2, t3, t4):\n",
    "        ans.append(a*180/pi)\n",
    "\n",
    "    return ans"
   ]
  },
  {
   "cell_type": "code",
   "execution_count": 89,
   "metadata": {},
   "outputs": [
    {
     "name": "stdout",
     "output_type": "stream",
     "text": [
      "wrist 7.375 5.75\n",
      "cosine_law -1.675561351829271e-16\n",
      "cosine_law 0.7886319326366391\n",
      "cosine_law -0.7886319326366399\n",
      "cosine_law 0.6148655745980575\n",
      "cosine_law 0.9854062582522878\n",
      "[0.0, 90.00000000000004, 90.0, -7.63333123551244e-14]\n"
     ]
    }
   ],
   "source": [
    "angles = inverse(10.75, 0, 5.75, 0.0)  # 0 90 -90 0\n",
    "print(angles)"
   ]
  },
  {
   "cell_type": "code",
   "execution_count": 91,
   "metadata": {},
   "outputs": [
    {
     "name": "stdout",
     "output_type": "stream",
     "text": [
      "wrist 5.0 3.375\n",
      "cosine_law -0.6020633750921148\n",
      "cosine_law 0.6486794495837805\n",
      "cosine_law 0.5594728550010627\n",
      "cosine_law 0.21712231570894697\n",
      "cosine_law 0.8288486740756483\n",
      "[0.0, 111.47928123454743, 127.0178193752511, 74.46146185929634]\n"
     ]
    }
   ],
   "source": [
    "angles = inverse(5, 0, 0, -pi/2)\n",
    "print(angles)"
   ]
  },
  {
   "cell_type": "code",
   "execution_count": null,
   "metadata": {},
   "outputs": [],
   "source": []
  },
  {
   "cell_type": "code",
   "execution_count": null,
   "metadata": {
    "collapsed": true
   },
   "outputs": [],
   "source": []
  }
 ],
 "metadata": {
  "kernelspec": {
   "display_name": "Python 2",
   "language": "python",
   "name": "python2"
  },
  "language_info": {
   "codemirror_mode": {
    "name": "ipython",
    "version": 2
   },
   "file_extension": ".py",
   "mimetype": "text/x-python",
   "name": "python",
   "nbconvert_exporter": "python",
   "pygments_lexer": "ipython2",
   "version": "2.7.13"
  }
 },
 "nbformat": 4,
 "nbformat_minor": 2
}

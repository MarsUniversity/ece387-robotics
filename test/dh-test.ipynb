{
 "cells": [
  {
   "cell_type": "markdown",
   "metadata": {},
   "source": [
    "# DH"
   ]
  },
  {
   "cell_type": "code",
   "execution_count": 1,
   "metadata": {
    "collapsed": true
   },
   "outputs": [],
   "source": [
    "%matplotlib inline"
   ]
  },
  {
   "cell_type": "code",
   "execution_count": 2,
   "metadata": {
    "collapsed": true
   },
   "outputs": [],
   "source": [
    "from __future__ import print_function\n",
    "from __future__ import division\n",
    "import numpy as np\n",
    "from matplotlib import pyplot as plt\n",
    "from sympy import symbols, sin, cos, simplify, trigsimp, pi\n",
    "from math import radians as d2r\n",
    "from math import degrees as r2d\n",
    "from math import atan2, sqrt, acos, fabs"
   ]
  },
  {
   "cell_type": "code",
   "execution_count": 18,
   "metadata": {
    "collapsed": true
   },
   "outputs": [],
   "source": [
    "class mDH(object):\n",
    "    \"\"\"\n",
    "    This uses the modified DH parameters\n",
    "    see Craig, eqn (3.6)\n",
    "    \"\"\"\n",
    "    def __init__(self, params):\n",
    "        t = np.eye(4)\n",
    "        for p in params:\n",
    "            t = t.dot(self.makeT(*p))\n",
    "        self.dh = t\n",
    "        self.eval()\n",
    "    \n",
    "    def getPosition(self):\n",
    "        return [float(x) for x in dh[0:3, 3]]\n",
    "    \n",
    "    def printT(self):\n",
    "        \"\"\"Print out the entire T matrix\"\"\"\n",
    "        R = self.dh[0:3,0:3]\n",
    "        D = self.dh[0:3, 3]\n",
    "        print('-'*30)\n",
    "        print('Position:')\n",
    "        print('  x:', D[0])\n",
    "        print('  y:', D[1])\n",
    "        print('  z:', D[2])\n",
    "        # R(n, o, a)\n",
    "        print('-'*30)\n",
    "        print('Orientation')\n",
    "        print('  nx:', R[0,0])\n",
    "        print('  ny:', R[0,1])\n",
    "        print('  nz:', R[0,2])\n",
    "        print('')\n",
    "        print('  ox:', R[1,0])\n",
    "        print('  oy:', R[1,1])\n",
    "        print('  oz:', R[1,2])\n",
    "        print('')\n",
    "        print('  ax:', R[2,0])\n",
    "        print('  ay:', R[2,1])\n",
    "        print('  az:', R[2,2]) \n",
    "\n",
    "    def makeT(self, a, alpha, d, theta):\n",
    "        return np.array([\n",
    "            [           cos(theta),           -sin(theta),           0,             a],\n",
    "            [sin(theta)*cos(alpha), cos(theta)*cos(alpha), -sin(alpha), -d*sin(alpha)],\n",
    "            [sin(theta)*sin(alpha), cos(theta)*sin(alpha),  cos(alpha),  d*cos(alpha)],\n",
    "            [                    0,                     0,           0,             1]\n",
    "        ])\n",
    "    \n",
    "    def eval(self):\n",
    "        \"\"\"\n",
    "        This allows you to simplify the trigonomic mess that kinematics can\n",
    "        create and also substitute in some inputs in the process\n",
    "        \"\"\"\n",
    "        c = []\n",
    "        for row in self.dh:\n",
    "            r = []\n",
    "            for col in row:\n",
    "                # use python symbolic toolbox to simplify the trig mess above \n",
    "                r.append(simplify(col))\n",
    "            c.append(r)\n",
    "        self.dh = np.array(c)"
   ]
  },
  {
   "cell_type": "code",
   "execution_count": 66,
   "metadata": {
    "collapsed": true
   },
   "outputs": [],
   "source": [
    "def cosine_law(a, b, c, phase=False):\n",
    "    if phase:\n",
    "        angle = ((c**2 - (a**2 + b**2))/(2*a*b))\n",
    "    else:\n",
    "        angle = ((c**2 - (a**2 + b**2))/(-2*a*b))\n",
    "    \n",
    "#     print('cosine_law', angle)\n",
    "        \n",
    "    if angle > 1 or angle < -1:\n",
    "        raise Exception('angle outside range')\n",
    "    return acos(angle)\n",
    "\n",
    "\n",
    "def line(x1, y1, x2, y2):\n",
    "    return sqrt((x2-x1)**2 + (y2-y1)**2)\n",
    "\n",
    "\n",
    "def mag(a, b):\n",
    "    return sqrt(a**2 + b**2)\n",
    "\n",
    "def mag3(a, b, c):\n",
    "    return sqrt(a**2 + b**2 + c**2)\n",
    "\n",
    "class AL5D(mDH):\n",
    "    l1 = 5.75\n",
    "    l2 = 7.375\n",
    "    l3 = 3.375\n",
    "    \n",
    "    def __init__(self):\n",
    "        t1, t2, t3, t4 = symbols('t1 t2 t3 t4')\n",
    "\n",
    "        a2 = 0.0\n",
    "        a3 = self.l1   # shoulder to elbow\n",
    "        a4 = self.l2  # elbow to wrist\n",
    "        a5 = self.l3  # wrist to end effector\n",
    "\n",
    "        params = [\n",
    "            [ 0,    0, a2, t1],\n",
    "            [ 0, pi/2,  0, t2],\n",
    "            [a3,    0,  0, t3],\n",
    "            [a4,    0,  0, t4],\n",
    "            [a5,    0,  0,  0]\n",
    "        ]\n",
    "        \n",
    "        mDH.__init__(self, params)\n",
    "        \n",
    "    def subs(self, angles):\n",
    "        \"\"\"\n",
    "        This allows you to simplify the trigonomic mess that kinematics can\n",
    "        create and also substitute in some inputs in the process\n",
    "        \"\"\"\n",
    "        m = [(t1,angles[0]), (t2,angles[1]), (t3, angles[2]), (t4, angles[3])]\n",
    "        c = []\n",
    "        for row in self.dh:\n",
    "            r = []\n",
    "            for col in row:\n",
    "                r.append(col.subs(m))\n",
    "            c.append(r)\n",
    "        return np.array(c)\n",
    "    \n",
    "    def inverse(self, x, y, z, orient):\n",
    "        \"\"\"\n",
    "        Azimuth angle is between x and w and lies in the x-y plane\n",
    "\n",
    "                   ^ x\n",
    "             w     |\n",
    "               \\   |\n",
    "                \\  |\n",
    "                 \\ |\n",
    "                  \\|\n",
    "        <----------+ (z is out of the page - right hand rule)\n",
    "        y\n",
    "\n",
    "        Most of the robot arm move in the plane defined by w-z\n",
    "\n",
    "        ^ z\n",
    "        |   o-----o\n",
    "        |  /       \\\n",
    "        | /         E\n",
    "        |/\n",
    "        +----------------> w\n",
    "\n",
    "        All joint angles returned are in radians: (t1, t2, t3, t4)\n",
    "\n",
    "        \"\"\"\n",
    "        l1 = self.l1\n",
    "        l2 = self.l2\n",
    "        l3 = self.l3\n",
    "\n",
    "        # check workspace constraints\n",
    "        if z < 0:\n",
    "            raise Exception('z in ground')\n",
    "        elif mag3(x,y,z) > (l1 + l2 + l3):\n",
    "            raise Exception('out of reach')\n",
    "\n",
    "        # get x-y plane azimuth\n",
    "        t1 = atan2(y, x)\n",
    "\n",
    "        # Now, most of the arm operates in the w-z frame\n",
    "        w = mag(x, y)         # new frame axis\n",
    "        gamma = atan2(z, w)\n",
    "        r = mag(z, w)\n",
    "\n",
    "        c = mag(w-l3*cos(orient), z-l3*sin(orient))\n",
    "\n",
    "        t3 = cosine_law(l1, l2, c, True)\n",
    "\n",
    "        d = cosine_law(l2, c, l1)\n",
    "        e = cosine_law(c, l3, r)\n",
    "        t4 = pi - d - e\n",
    "\n",
    "        alpha = cosine_law(l1, c, l2)\n",
    "        beta = cosine_law(c,r,l3)\n",
    "\n",
    "        t2 = alpha + beta + gamma\n",
    "\n",
    "        return (t1, t2, t3, t4)"
   ]
  },
  {
   "cell_type": "code",
   "execution_count": 57,
   "metadata": {
    "collapsed": true
   },
   "outputs": [],
   "source": [
    "def rplot(t1, t2, t3, t4):\n",
    "    \"\"\"Given the 4 joint angles (in rads), plot the arm in the x-y and w-z planes\"\"\"\n",
    "    l1 = 5.75\n",
    "    l2 = 7.375\n",
    "    l3 = 3.375\n",
    "    ptsx = [0]\n",
    "    ptsy = [0]\n",
    "\n",
    "    # link 1\n",
    "    x1 = l1*cos(t2)\n",
    "    y1 = l1*sin(t2)\n",
    "    ptsx.append(x1)\n",
    "    ptsy.append(y1)\n",
    "\n",
    "    # link 2\n",
    "    x2 = x1 + l2*cos(t2 + t3)\n",
    "    y2 = y1 + l2*sin(t2 + t3)\n",
    "    ptsx.append(x2)\n",
    "    ptsy.append(y2)\n",
    "\n",
    "    # link 3\n",
    "    x3 = x2 + l3*cos(t2 + t3 + t4)\n",
    "    y3 = y2 + l3*sin(t2 + t3 + t4)\n",
    "    ptsx.append(x3)\n",
    "    ptsy.append(y3)\n",
    "\n",
    "    plt.subplot(1,2,1,projection='polar')\n",
    "    plt.plot([0, t1], [0, 1.0])\n",
    "    plt.grid(True)\n",
    "    plt.title('Azimuth Angle (x-y plane)')\n",
    "\n",
    "    plt.subplot(1,2,2)\n",
    "    plt.plot(ptsx, ptsy, 'b-', marker='o')\n",
    "    plt.axis('equal')\n",
    "    plt.grid(True)\n",
    "    plt.title('w-z Plane')"
   ]
  },
  {
   "cell_type": "code",
   "execution_count": 53,
   "metadata": {},
   "outputs": [],
   "source": [
    "al5d = AL5D()"
   ]
  },
  {
   "cell_type": "code",
   "execution_count": 54,
   "metadata": {},
   "outputs": [],
   "source": [
    "angles = [0, pi/2, -pi/2, 0]\n",
    "t = al5d.subs(angles)"
   ]
  },
  {
   "cell_type": "code",
   "execution_count": 55,
   "metadata": {},
   "outputs": [
    {
     "name": "stdout",
     "output_type": "stream",
     "text": [
      "[[1.00000000000000 0 0 10.7500000000000]\n",
      " [0 0 -1.00000000000000 0]\n",
      " [0 1.00000000000000 0 5.75000000000000]\n",
      " [0 0 0 1.00000000000000]]\n"
     ]
    }
   ],
   "source": [
    "print(t)"
   ]
  },
  {
   "cell_type": "code",
   "execution_count": 56,
   "metadata": {},
   "outputs": [
    {
     "data": {
      "image/png": "[encoded data removed]",
      "text/plain": [
       "<matplotlib.figure.Figure at 0x104b5a1d0>"
      ]
     },
     "metadata": {},
     "output_type": "display_data"
    }
   ],
   "source": [
    "rplot(*angles)"
   ]
  },
  {
   "cell_type": "code",
   "execution_count": 77,
   "metadata": {},
   "outputs": [],
   "source": [
    "import serial\n",
    "\n",
    "class Arm(object):\n",
    "    pwm = (1,2,3)\n",
    "    \n",
    "    def __init__(self, arm, port):\n",
    "        self.arm = arm\n",
    "#         self.ser = serial.Serial(port, 9600, timeout=0.1)\n",
    "        \n",
    "    def __del__(self):\n",
    "#         self.ser.close()\n",
    "        pass\n",
    "\n",
    "    def command(self, angle):\n",
    "        return '{:6.3f}'.format(angle)\n",
    "        \n",
    "    def move(self, x, y, z, o):\n",
    "        angles = self.arm.inverse(x,y,z,o)\n",
    "        angles = [float(x) for x in angles]\n",
    "        \n",
    "        cmd = []\n",
    "        for a in angles:\n",
    "            c = self.command(a)\n",
    "            cmd.append(c)\n",
    "        cmd.append(' t??\\n\\r')\n",
    "#         self.write(''.join(cmd))\n",
    "        print(''.join(cmd))"
   ]
  },
  {
   "cell_type": "code",
   "execution_count": 78,
   "metadata": {},
   "outputs": [
    {
     "name": "stdout",
     "output_type": "stream",
     "text": [
      " 0.785 1.539 1.175 1.935 t??\n",
      "\r\n",
      " 0.785 1.969 1.874 0.095 t??\n",
      "\r\n"
     ]
    }
   ],
   "source": [
    "arm = Arm(al5d, port='/dev/null')\n",
    "\n",
    "pts = [\n",
    "    (5,5,5, -pi/2),\n",
    "    (6,6,6, 0)\n",
    "]\n",
    "\n",
    "for p in pts:\n",
    "    arm.move(*p)"
   ]
  },
  {
   "cell_type": "code",
   "execution_count": null,
   "metadata": {
    "collapsed": true
   },
   "outputs": [],
   "source": []
  }
 ],
 "metadata": {
  "kernelspec": {
   "display_name": "Python 2",
   "language": "python",
   "name": "python2"
  },
  "language_info": {
   "codemirror_mode": {
    "name": "ipython",
    "version": 3
   },
   "file_extension": ".py",
   "mimetype": "text/x-python",
   "name": "python",
   "nbconvert_exporter": "python",
   "pygments_lexer": "ipython3",
   "version": "3.6.1"
  }
 },
 "nbformat": 4,
 "nbformat_minor": 2
}

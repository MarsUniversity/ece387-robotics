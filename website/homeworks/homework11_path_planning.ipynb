{
 "cells": [
  {
   "cell_type": "markdown",
   "metadata": {},
   "source": [
    "# Homework 11: Path Planning\n",
    "\n",
    "Name: Who Am I?\n",
    "\n",
    "Honor Code:\n",
    "\n",
    "Blah ...\n",
    "\n",
    "Help received from:"
   ]
  },
  {
   "cell_type": "code",
   "execution_count": 1,
   "metadata": {
    "collapsed": true
   },
   "outputs": [],
   "source": [
    "%matplotlib inline"
   ]
  },
  {
   "cell_type": "code",
   "execution_count": 15,
   "metadata": {
    "collapsed": true
   },
   "outputs": [],
   "source": [
    "from __future__ import division, print_function\n",
    "import matplotlib.pyplot as plt\n",
    "import random"
   ]
  },
  {
   "cell_type": "markdown",
   "metadata": {},
   "source": [
    "## Helper functions\n",
    "\n",
    "Here are some functions below that will help you, their code is in `pathplanning.py` so take a look to see what is happening. Typical code flow will be:\n",
    "\n",
    "```python\n",
    "matShow(grid, 'The Maze')  # see what the maze looks like\n",
    "search = a_star(grid,init,goal,cost,heuristic)  # search\n",
    "matShow(search, 'A* Search')  # see where the algorithm searched\n",
    "path = getPath(search, goal, init, grid)  # find the lowest cost path through the maze\n",
    "ans = putPathMap(grid, path)  # draw the path on the map\n",
    "matShow(ans, 'Path through Map')  # plot the map/path\n",
    "```"
   ]
  },
  {
   "cell_type": "code",
   "execution_count": 18,
   "metadata": {
    "collapsed": true
   },
   "outputs": [],
   "source": [
    "from pathplanning import a_star, calcHeuristic, matShow, getPath, putPathMap"
   ]
  },
  {
   "cell_type": "markdown",
   "metadata": {},
   "source": [
    "---"
   ]
  },
  {
   "cell_type": "code",
   "execution_count": 19,
   "metadata": {
    "collapsed": true
   },
   "outputs": [],
   "source": [
    "# here is the maze or map we want to navigate through\n",
    "grid = [[0, 0, 0, 0, 0, 0, 0, 0, 0, 0, 0, 0],\n",
    "        [0, 1, 0, 1, 1, 1, 0, 1, 0, 0, 0, 0],\n",
    "        [0, 1, 1, 1, 0, 0, 0, 1, 0, 0, 0, 0],\n",
    "        [0, 1, 0, 0, 0, 0, 0, 1, 0, 0, 0, 0],\n",
    "        [0, 0, 0, 0, 1, 0, 0, 0, 0, 0, 0, 1],\n",
    "        [0, 1, 0, 1, 1, 1, 0, 0, 0, 0, 1, 0],\n",
    "        [0, 1, 1, 1, 0, 0, 0, 0, 0, 1, 0, 0],\n",
    "        [0, 1, 0, 0, 0, 0, 0, 0, 0, 0, 0, 0]\n",
    "]"
   ]
  },
  {
   "cell_type": "markdown",
   "metadata": {
    "collapsed": true
   },
   "source": [
    "1: Given a map (grid) with the following parameters:\n",
    "\n",
    "- cost = 1\n",
    "- start = (0,0)\n",
    "- goal = (5,8)\n",
    "\n",
    "Find:\n",
    "\n",
    "- plot the map\n",
    "- plot the A\\* search until it found the end\n",
    "- plot the path through the map"
   ]
  },
  {
   "cell_type": "code",
   "execution_count": null,
   "metadata": {},
   "outputs": [],
   "source": []
  },
  {
   "cell_type": "markdown",
   "metadata": {},
   "source": [
    "1. Did A Star search the entire map?\n",
    "2. What happens if you set the heuristic to all 0's?"
   ]
  },
  {
   "cell_type": "markdown",
   "metadata": {},
   "source": [
    "2: If we repeat the above with different conditions:\n",
    "\n",
    "- cost = 5\n",
    "- start = (5,8)\n",
    "- end = (0,0)"
   ]
  },
  {
   "cell_type": "code",
   "execution_count": null,
   "metadata": {},
   "outputs": [],
   "source": []
  },
  {
   "cell_type": "markdown",
   "metadata": {},
   "source": [
    "3: Replace the heuristic with a random one:\n",
    "\n",
    "    heuristic = [[random.randint(0,50) for row in range(len(grid[0]))] for col in range(len(grid))]\n",
    "\n",
    "- Now how does it perform?\n",
    "- If you run it a few times, does the results change? *Make sure you recalculate the heuristic every run*\n",
    "- Does it always find a solution?"
   ]
  },
  {
   "cell_type": "code",
   "execution_count": null,
   "metadata": {},
   "outputs": [],
   "source": []
  },
  {
   "cell_type": "code",
   "execution_count": null,
   "metadata": {
    "collapsed": true
   },
   "outputs": [],
   "source": []
  },
  {
   "cell_type": "code",
   "execution_count": null,
   "metadata": {
    "collapsed": true
   },
   "outputs": [],
   "source": []
  }
 ],
 "metadata": {
  "kernelspec": {
   "display_name": "Python 2",
   "language": "python",
   "name": "python2"
  },
  "language_info": {
   "codemirror_mode": {
    "name": "ipython",
    "version": 2
   },
   "file_extension": ".py",
   "mimetype": "text/x-python",
   "name": "python",
   "nbconvert_exporter": "python",
   "pygments_lexer": "ipython2",
   "version": "2.7.13"
  }
 },
 "nbformat": 4,
 "nbformat_minor": 2
}

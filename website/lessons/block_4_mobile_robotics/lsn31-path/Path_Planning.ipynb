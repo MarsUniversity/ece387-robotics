{
 "cells": [
  {
   "cell_type": "markdown",
   "metadata": {},
   "source": [
    "# Path Planning\n",
    "\n",
    "Created by Kevin J. Walchko 25 July 2017\n",
    "\n",
    "----\n",
    "\n",
    "Based off Sabastian Thur's Robotic course, Udacity.com and some good material from Red Games.\n",
    "\n",
    "## References\n",
    "\n",
    "- [Standford DARPA Grand Challenge](https://www.youtube.com/watch?v=qXZt-B7iUyw)\n",
    "- [RedGames blog, deep dive on A\\*](http://www.redblobgames.com/pathfinding/a-star/implementation.html)\n",
    "- [RedGames blog, Intro to A\\*](http://www.redblobgames.com/pathfinding/a-star/introduction.html)\n",
    "- [Wikipedia A\\*](https://en.wikipedia.org/wiki/A*_search_algorithm)\n",
    "\n",
    "## Setup"
   ]
  },
  {
   "cell_type": "code",
   "execution_count": 1,
   "metadata": {},
   "outputs": [],
   "source": [
    "%matplotlib inline\n",
    "\n",
    "from __future__ import division, print_function\n",
    "import matplotlib.pyplot as plt"
   ]
  },
  {
   "cell_type": "markdown",
   "metadata": {},
   "source": [
    "# Path Finding\n",
    "\n",
    "In computer science, A\\* (pronounced as \"A star\") is a computer algorithm that is widely used in pathfinding and graph traversal, the process of plotting an efficiently directed path between multiple points, called nodes. It enjoys widespread use due to its performance and accuracy. However, in practical travel-routing systems, it is generally outperformed by algorithms which can pre-process the graph to attain better performance, although other work has found A* to be superior to other approaches.\n",
    "\n",
    "Peter Hart, Nils Nilsson and Bertram Raphael of Stanford Research Institute (now SRI International) first described the algorithm in 1968. It is an extension of Edsger Dijkstra's 1959 algorithm. A\\* achieves better performance by using heuristics to guide its search. "
   ]
  },
  {
   "cell_type": "code",
   "execution_count": 159,
   "metadata": {
    "collapsed": true
   },
   "outputs": [],
   "source": [
    "def putPathMap(grid, path, clear=0, closed=2, travel=1):\n",
    "    # copy map\n",
    "    ret = [[(clear if grid[col][row] == 0 else closed) for row in range(len(grid[0]))] for col in range(len(grid))]\n",
    "    \n",
    "    # plot path on map\n",
    "    for x, y in path:\n",
    "        ret[x][y] = travel\n",
    "    return ret\n",
    "\n",
    "# Print stuff to command line, useful for debugging on robot\n",
    "def printMap(rmap):\n",
    "    rows = len(rmap)\n",
    "    cols = len(rmap[0])\n",
    "    form = []\n",
    "    for i in rmap[0]:\n",
    "        form.append('{:>4}')\n",
    "    form = ' '.join(form)\n",
    "    \n",
    "    print(\"\")\n",
    "    print('--[ Map {} x {} ]----------'.format(rows, cols))\n",
    "    for line in rmap:\n",
    "        print(form.format(*line))\n",
    "\n",
    "        \n",
    "def printPath(path, grid):\n",
    "    ret = putPathMap(grid, path, clear=' ', closed='X', travel='*')\n",
    "    printMap(ret)\n",
    "    \n",
    "\n",
    "# make pretty plots\n",
    "def matShow(grid, title=None, cmap=None, path=None):\n",
    "    if path:\n",
    "        path = putPathMap(path)\n",
    "    rows = len(grid)\n",
    "    cols = len(grid[0])\n",
    "    \n",
    "    colorbar = True\n",
    "    if cmap is None:\n",
    "        cmap = 'binary'\n",
    "        colorbar = False\n",
    "    plt.matshow(grid, cmap=plt.get_cmap(cmap))\n",
    "    if title:\n",
    "        plt.title(title + ' [{} x {}]'.format(rows, cols))\n",
    "    else:\n",
    "        plt.title('[{} x {}]'.format(rows, cols))\n",
    "    plt.xticks(())\n",
    "    plt.yticks(());\n",
    "    if colorbar:\n",
    "        plt.colorbar();\n",
    "\n",
    "        \n",
    "def getPath(expand, goal, start, wall=-1):\n",
    "    path = []\n",
    "    x, y = goal\n",
    "    val = expand[x][y]\n",
    "    delta = [\n",
    "        [-1, 0 ], # go up\n",
    "        [ 0, -1], # go left\n",
    "        [ 1, 0 ], # go down\n",
    "        [ 0, 1 ]  # go right\n",
    "    ]\n",
    "    done = False\n",
    "    max_x_grid = len(grid)\n",
    "    max_y_grid = len(grid[0])\n",
    "    \n",
    "    path.append(goal)\n",
    "    \n",
    "    while not done:\n",
    "        vals = []\n",
    "        for move in delta:\n",
    "            x2, y2 = x + move[0], y + move[1]\n",
    "            # make sure still on map\n",
    "            if x2 >= 0 and x2 < max_x_grid and y2 >=0 and y2 < max_y_grid:\n",
    "                if expand[x2][y2] > wall:  # don't travel through walls\n",
    "                    val = expand[x2][y2]\n",
    "                    vals.append((val, move))\n",
    "\n",
    "        lowest = 100000\n",
    "        for v, m in vals:\n",
    "            if v < lowest:\n",
    "                move = m\n",
    "                lowest = v\n",
    "\n",
    "        x, y = x + move[0], y + move[1]\n",
    "        path.append([x, y])\n",
    "        \n",
    "        if x == start[0] and y == start[1]:\n",
    "            done = True\n",
    "        \n",
    "    return path"
   ]
  },
  {
   "cell_type": "code",
   "execution_count": null,
   "metadata": {
    "collapsed": true
   },
   "outputs": [],
   "source": []
  },
  {
   "cell_type": "markdown",
   "metadata": {
    "collapsed": true
   },
   "source": [
    "## Simple Search\n",
    "\n",
    "This method searches through an entire map and determines the cost of moving from the starting point.\n",
    "\n",
    "`simpmle_search`:\n",
    "\n",
    "- grid: the map\n",
    "- init: the starting point\n",
    "- goal: where you want to get too\n",
    "- cost: movement cost"
   ]
  },
  {
   "cell_type": "code",
   "execution_count": 142,
   "metadata": {
    "collapsed": true
   },
   "outputs": [],
   "source": [
    "def simple_search(grid,init,goal,cost):\n",
    "    closed = [[0 for row in range(len(grid[0]))] for col in range(len(grid))]\n",
    "    closed[init[0]][init[1]] = 1\n",
    "    \n",
    "    open = [[0, init[0], init[1]]]\n",
    "    \n",
    "    delta = [[-1, 0], # go up\n",
    "             [ 0,-1], # go left\n",
    "             [ 1, 0], # go down\n",
    "             [ 0, 1]] # go right\n",
    "\n",
    "    found = False  # flag that is set when search is complete\n",
    "    resign = False # flag set if we can't find expand\n",
    "    \n",
    "    while not found and not resign:\n",
    "        if len(open) == 0:\n",
    "            print('<<< Fail: cannot find path to goal >>>')\n",
    "            resign = True\n",
    "        else:\n",
    "            # remove node from list\n",
    "            open.sort()  # sorts from small to large\n",
    "            open.reverse()  # reverses: large to small\n",
    "            next = open.pop()  # removes last element (smallest number)\n",
    "            g, x, y = next\n",
    "            \n",
    "            if x == goal[0] and y == goal[1]:\n",
    "                found = True\n",
    "                print('found:', next)\n",
    "            else:\n",
    "                # cycle through possible movements\n",
    "                for d in delta:\n",
    "                    x2, y2 = x+d[0], y+d[1]\n",
    "                    if x2 >= 0 and x2 < len(grid) and y2 >= 0 and y2 < len(grid[0]):\n",
    "#                         print('checking:', x2, y2)\n",
    "                        # check unoccupied\n",
    "                        if closed[x2][y2] == 0 and grid[x2][y2] == 0:\n",
    "                            g2 = g + cost  # increment g value\n",
    "                            open.append([g2, x2, y2])\n",
    "                            closed[x2][y2] = g2\n",
    "\n",
    "    return closed"
   ]
  },
  {
   "cell_type": "code",
   "execution_count": 153,
   "metadata": {},
   "outputs": [
    {
     "name": "stdout",
     "output_type": "stream",
     "text": [
      "found: [15, 4, 5]\n",
      "start [0, 0]\n",
      "goal [4, 5]\n"
     ]
    },
    {
     "data": {
      "image/png": "[encoded data removed]",
      "text/plain": [
       "<matplotlib.figure.Figure at 0xf9b9bf60>"
      ]
     },
     "metadata": {},
     "output_type": "display_data"
    },
    {
     "data": {
      "image/png": "[encoded data removed]",
      "text/plain": [
       "<matplotlib.figure.Figure at 0xf9ba97b8>"
      ]
     },
     "metadata": {},
     "output_type": "display_data"
    }
   ],
   "source": [
    "grid = [[0, 0, 1, 0, 0, 0],\n",
    "        [0, 0, 1, 0, 0, 0],\n",
    "        [0, 1, 1, 0, 1, 0],\n",
    "        [0, 0, 1, 0, 1, 0],\n",
    "        [0, 0, 0, 0, 1, 0]\n",
    "       ]\n",
    "\n",
    "init = [0, 0]\n",
    "goal = [4, 5]\n",
    "\n",
    "# delta = [[-1, 0], # go up\n",
    "#          [ 0,-1], # go left\n",
    "#          [ 1, 0], # go down\n",
    "#          [ 0, 1]] # go right\n",
    "\n",
    "# grid2 = [[0, 1, 0, 0, 0, 0],\n",
    "#         [0, 1, 0, 0, 0, 0],\n",
    "#         [0, 1, 0, 0, 0, 0],\n",
    "#         [0, 1, 0, 0, 0, 0],\n",
    "#         [0, 0, 0, 0, 1, 0]]\n",
    "\n",
    "goal2 = [len(grid)-1, len(grid[0])-1]\n",
    "matShow(grid, title='Map')\n",
    "cost = simple_search(grid, init, goal, 1)\n",
    "matShow(cost, title='Cost', cmap=\"Blues\")\n",
    "print('start', init)\n",
    "print('goal', goal)\n",
    "path = getPath(ans, goal, init,0)"
   ]
  },
  {
   "cell_type": "code",
   "execution_count": 50,
   "metadata": {},
   "outputs": [],
   "source": [
    "# def printPath(path, grid):\n",
    "#     delta_name = ['^', '<', 'v', '>']\n",
    "    \n",
    "#     # copy map\n",
    "#     ret = [[(' ' if grid[col][row] == 0 else 'X') for row in range(len(grid[0]))] for col in range(len(grid))]\n",
    "    \n",
    "#     # plot path on map\n",
    "#     for x, y in path:\n",
    "#         ret[x][y] = '*'\n",
    "#     printMap(ret)"
   ]
  },
  {
   "cell_type": "code",
   "execution_count": 156,
   "metadata": {},
   "outputs": [
    {
     "name": "stdout",
     "output_type": "stream",
     "text": [
      "\n",
      "--[ Map 5 x 6 ]----------\n",
      "   0    0    1    0    0    0\n",
      "   0    0    1    0    0    0\n",
      "   0    1    1    0    1    0\n",
      "   0    0    1    0    1    0\n",
      "   0    0    0    0    1    0\n",
      "\n",
      "--[ Map 5 x 6 ]----------\n",
      "   *         X               \n",
      "   *         X    *    *    *\n",
      "   *    X    X    *    X    *\n",
      "   *    *    X    *    X    *\n",
      "        *    *    *    X    *\n"
     ]
    }
   ],
   "source": [
    "printMap(grid)\n",
    "printPath(path, grid)"
   ]
  },
  {
   "cell_type": "code",
   "execution_count": null,
   "metadata": {
    "collapsed": true
   },
   "outputs": [],
   "source": []
  },
  {
   "cell_type": "code",
   "execution_count": null,
   "metadata": {
    "collapsed": true
   },
   "outputs": [],
   "source": []
  },
  {
   "cell_type": "markdown",
   "metadata": {
    "collapsed": true
   },
   "source": [
    "## A\\*\n",
    "\n",
    "blah ..."
   ]
  },
  {
   "cell_type": "code",
   "execution_count": 29,
   "metadata": {
    "collapsed": true
   },
   "outputs": [],
   "source": [
    "def a_star(grid,init,goal,cost,heuristic):\n",
    "    # ----------------------------------------\n",
    "    # modify the code below\n",
    "    # ----------------------------------------\n",
    "    closed = [[0 for col in range(len(grid[0]))] for row in range(len(grid))]\n",
    "    closed[init[0]][init[1]] = 1\n",
    "\n",
    "    expand = [[-1 for col in range(len(grid[0]))] for row in range(len(grid))]\n",
    "    action = [[-1 for col in range(len(grid[0]))] for row in range(len(grid))]\n",
    "    \n",
    "    \n",
    "    delta = [[-1, 0], # go up\n",
    "             [ 0,-1], # go left\n",
    "             [ 1, 0], # go down\n",
    "             [ 0, 1]] # go right\n",
    "\n",
    "    x, y = init\n",
    "    g = 0\n",
    "    h = heuristic[x][y]\n",
    "    f = g + h\n",
    "\n",
    "    open = [[f, g, x, y]]  # add f\n",
    "\n",
    "    found = False  # flag that is set when search is complete\n",
    "    resign = False # flag set if we can't find expand\n",
    "    count = 0\n",
    "    \n",
    "    while not found and not resign:\n",
    "        if len(open) == 0:\n",
    "            resign = True\n",
    "            return \"Fail\"\n",
    "        else:\n",
    "            open.sort()\n",
    "            open.reverse()\n",
    "            next = open.pop()\n",
    "            x = next[2]\n",
    "            y = next[3]\n",
    "            g = next[1]\n",
    "            expand[x][y] = count\n",
    "            count += 1\n",
    "            \n",
    "            if x == goal[0] and y == goal[1]:\n",
    "                found = True\n",
    "            else:\n",
    "                # expand winning element and add to new open list\n",
    "                for i in range(len(delta)):\n",
    "                    x2 = x + delta[i][0]\n",
    "                    y2 = y + delta[i][1]\n",
    "                    # make sure still on map\n",
    "                    if x2 >= 0 and x2 < len(grid) and y2 >=0 and y2 < len(grid[0]):\n",
    "                        # make sure unoccuppied\n",
    "                        if closed[x2][y2] == 0 and grid[x2][y2] == 0:\n",
    "                            g2 = g + cost\n",
    "                            h2 = heuristic[x2][y2]\n",
    "                            f2 = g2 + h2\n",
    "                            open.append([f2, g2, x2, y2])\n",
    "                            closed[x2][y2] = 1\n",
    "\n",
    "    return expand"
   ]
  },
  {
   "cell_type": "code",
   "execution_count": 151,
   "metadata": {},
   "outputs": [
    {
     "data": {
      "image/png": "[encoded data removed]",
      "text/plain": [
       "<matplotlib.figure.Figure at 0x278dc048>"
      ]
     },
     "metadata": {},
     "output_type": "display_data"
    }
   ],
   "source": [
    "def calcHeuristic(grid, goal):\n",
    "    \"\"\"\n",
    "    Basically calculates a gradient decent from a given\n",
    "    goal point.\n",
    "    \"\"\"\n",
    "    w = len(grid[0])  # width\n",
    "    h = len(grid)     # height\n",
    "    hr = [[(abs(goal[1]-y)+abs(goal[0]-x)) for y in range(w)] for x in range(h)]\n",
    "    return hr\n",
    "\n",
    "g = [3, 3]\n",
    "hr = calcHeuristic(grid, g)\n",
    "matShow(hr, cmap='Purples')"
   ]
  },
  {
   "cell_type": "code",
   "execution_count": 71,
   "metadata": {},
   "outputs": [
    {
     "name": "stdout",
     "output_type": "stream",
     "text": [
      "\n",
      "--[ Map 5 x 6 ]----------\n",
      "   0    1    0    0    0    0\n",
      "   0    1    0    0    0    0\n",
      "   0    1    0    0    0    0\n",
      "   0    1    0    0    0    0\n",
      "   0    0    0    0    1    0\n",
      "\n",
      "--[ Map 5 x 6 ]----------\n",
      "   0   -1   -1   -1   -1   -1\n",
      "   1   -1   -1   -1   -1   -1\n",
      "   2   -1   -1   -1   -1   -1\n",
      "   3   -1    8    9   10   11\n",
      "   4    5    6    7   -1   12\n",
      "start [0, 0]\n",
      "goal [4, 5]\n",
      "\n",
      "--[ Map 5 x 6 ]----------\n",
      "   *    X                    \n",
      "   *    X                    \n",
      "   *    X                    \n",
      "   *    X         *    *    *\n",
      "   *    *    *    *    X    *\n"
     ]
    }
   ],
   "source": [
    "grid = [[0, 1, 0, 0, 0, 0],\n",
    "        [0, 1, 0, 0, 0, 0],\n",
    "        [0, 1, 0, 0, 0, 0],\n",
    "        [0, 1, 0, 0, 0, 0],\n",
    "        [0, 0, 0, 0, 1, 0]]\n",
    "\n",
    "printMap(grid)\n",
    "# heuristic = [[9, 8, 7, 6, 5, 4],\n",
    "#              [8, 7, 6, 5, 4, 3],\n",
    "#              [7, 6, 5, 4, 3, 2],\n",
    "#              [6, 5, 4, 3, 2, 1],\n",
    "#              [5, 4, 3, 2, 1, 0]]\n",
    "\n",
    "init = [0, 0]\n",
    "goal = [len(grid)-1, len(grid[0])-1]\n",
    "heuristic = calcHeuristic(grid, goal)\n",
    "cost = 1\n",
    "ans = a_star(grid,init,goal,cost,heuristic)\n",
    "printMap(ans)\n",
    "print('start', init)\n",
    "print('goal', goal)\n",
    "path = getPath(ans, goal, init)\n",
    "printPath(path, grid)\n"
   ]
  },
  {
   "cell_type": "markdown",
   "metadata": {
    "collapsed": true
   },
   "source": [
    "Now the thing to notice is, the heuristic pulls the path planner towards the goal like a rubber band. It drives to search algorithm to the end and avoids exploring unnecessary space in the map. This can be seen in the middle plot, where there are -1's in open space because it wasn't explored."
   ]
  },
  {
   "cell_type": "code",
   "execution_count": 74,
   "metadata": {},
   "outputs": [
    {
     "name": "stdout",
     "output_type": "stream",
     "text": [
      "\n",
      "--[ Map 8 x 12 ]----------\n",
      "  18   17   16   15   14   13   12   11   10    9    8    7\n",
      "  17   16   15   14   13   12   11   10    9    8    7    6\n",
      "  16   15   14   13   12   11   10    9    8    7    6    5\n",
      "  15   14   13   12   11   10    9    8    7    6    5    4\n",
      "  14   13   12   11   10    9    8    7    6    5    4    3\n",
      "  13   12   11   10    9    8    7    6    5    4    3    2\n",
      "  12   11   10    9    8    7    6    5    4    3    2    1\n",
      "  11   10    9    8    7    6    5    4    3    2    1    0\n",
      "\n",
      "--[ Map 8 x 12 ]----------\n",
      "   0    1    3    5    8   10   13   16   21   23   26   30\n",
      "   2   -1    6   -1   -1   -1   17   -1   24   27   31   36\n",
      "   4   -1   -1   -1   -1   -1   22   -1   28   32   37   42\n",
      "   7   -1   -1   -1   -1   -1   25   -1   33   38   43   48\n",
      "   9   11   14   18   -1   -1   29   34   39   44   49   -1\n",
      "  12   -1   19   -1   -1   -1   35   40   45   50   -1   -1\n",
      "  15   -1   -1   -1   -1   -1   41   46   51   -1   -1   -1\n",
      "  20   -1   -1   -1   -1   -1   47   52   53   54   55   56\n",
      "start [0, 0]\n",
      "goal [7, 11]\n",
      "\n",
      "--[ Map 8 x 12 ]----------\n",
      "   *    *    *    *    *    *    *    *    *               \n",
      "        X         X    X    X         X    *               \n",
      "        X    X    X                   X    *               \n",
      "        X                             X    *               \n",
      "                       X                   *              X\n",
      "        X         X    X    X              *         X     \n",
      "        X    X    X                        *    X          \n",
      "        X                                  *    *    *    *\n"
     ]
    }
   ],
   "source": [
    "grid = [[0, 0, 0, 0, 0, 0, 0, 0, 0, 0, 0, 0],\n",
    "        [0, 1, 0, 1, 1, 1, 0, 1, 0, 0, 0, 0],\n",
    "        [0, 1, 1, 1, 0, 0, 0, 1, 0, 0, 0, 0],\n",
    "        [0, 1, 0, 0, 0, 0, 0, 1, 0, 0, 0, 0],\n",
    "        [0, 0, 0, 0, 1, 0, 0, 0, 0, 0, 0, 1],\n",
    "        [0, 1, 0, 1, 1, 1, 0, 0, 0, 0, 1, 0],\n",
    "        [0, 1, 1, 1, 0, 0, 0, 0, 0, 1, 0, 0],\n",
    "        [0, 1, 0, 0, 0, 0, 0, 0, 0, 0, 0, 0]\n",
    "]\n",
    "\n",
    "# heuristic = [[abs(x+y) for y in range(-len(grid[0])+1, 1)] for x in range(-len(grid)+1, 1)]\n",
    "goal = [len(grid)-1, len(grid[0])-1]\n",
    "heuristic = calcHeuristic(grid, goal)\n",
    "printMap(heuristic)\n",
    "\n",
    "\n",
    "# go back to the preivous simple search\n",
    "# h_empty = [[0 for row in range(len(grid[0]))] for col in range(len(grid))]\n",
    "# heuristic = h_empty\n",
    "\n",
    "ans = a_star(grid,init,goal,cost,heuristic)\n",
    "printMap(ans)\n",
    "print('start', init)\n",
    "print('goal', goal)\n",
    "path = getPath(ans, goal, init)\n",
    "printPath(path, grid)"
   ]
  },
  {
   "cell_type": "code",
   "execution_count": null,
   "metadata": {
    "collapsed": true
   },
   "outputs": [],
   "source": []
  },
  {
   "cell_type": "code",
   "execution_count": 76,
   "metadata": {
    "collapsed": true
   },
   "outputs": [],
   "source": []
  },
  {
   "cell_type": "code",
   "execution_count": null,
   "metadata": {
    "collapsed": true
   },
   "outputs": [],
   "source": []
  },
  {
   "cell_type": "code",
   "execution_count": null,
   "metadata": {},
   "outputs": [],
   "source": []
  },
  {
   "cell_type": "code",
   "execution_count": null,
   "metadata": {},
   "outputs": [],
   "source": []
  },
  {
   "cell_type": "code",
   "execution_count": 88,
   "metadata": {
    "collapsed": true
   },
   "outputs": [],
   "source": []
  },
  {
   "cell_type": "code",
   "execution_count": null,
   "metadata": {},
   "outputs": [],
   "source": []
  },
  {
   "cell_type": "code",
   "execution_count": 115,
   "metadata": {},
   "outputs": [],
   "source": []
  },
  {
   "cell_type": "code",
   "execution_count": null,
   "metadata": {},
   "outputs": [],
   "source": []
  },
  {
   "cell_type": "code",
   "execution_count": 137,
   "metadata": {
    "scrolled": true
   },
   "outputs": [
    {
     "data": {
      "image/png": "[encoded data removed]",
      "text/plain": [
       "<matplotlib.figure.Figure at 0x5f760a58>"
      ]
     },
     "metadata": {},
     "output_type": "display_data"
    }
   ],
   "source": [
    "matShow(grid, 'Map')"
   ]
  },
  {
   "cell_type": "code",
   "execution_count": 138,
   "metadata": {},
   "outputs": [
    {
     "data": {
      "image/png": "[encoded data removed]",
      "text/plain": [
       "<matplotlib.figure.Figure at 0x6bc1d6d8>"
      ]
     },
     "metadata": {},
     "output_type": "display_data"
    }
   ],
   "source": [
    "matShow(ans, 'ans', cmap='Blues')"
   ]
  },
  {
   "cell_type": "code",
   "execution_count": 139,
   "metadata": {},
   "outputs": [
    {
     "data": {
      "image/png": "[encoded data removed]",
      "text/plain": [
       "<matplotlib.figure.Figure at 0x7dff2eb8>"
      ]
     },
     "metadata": {},
     "output_type": "display_data"
    }
   ],
   "source": [
    "matShow(o, 'chosen path')"
   ]
  },
  {
   "cell_type": "code",
   "execution_count": null,
   "metadata": {
    "collapsed": true
   },
   "outputs": [],
   "source": []
  },
  {
   "cell_type": "markdown",
   "metadata": {
    "collapsed": true
   },
   "source": [
    "\n",
    "-----------\n",
    "\n",
    "<a rel=\"license\" href=\"http://creativecommons.org/licenses/by-sa/4.0/\"><img alt=\"Creative Commons License\" style=\"border-width:0\" src=\"https://i.creativecommons.org/l/by-sa/4.0/88x31.png\" /></a><br />This work is licensed under a <a rel=\"license\" href=\"http://creativecommons.org/licenses/by-sa/4.0/\">Creative Commons Attribution-ShareAlike 4.0 International License</a>."
   ]
  }
 ],
 "metadata": {
  "kernelspec": {
   "display_name": "Python 2",
   "language": "python",
   "name": "python2"
  },
  "language_info": {
   "codemirror_mode": {
    "name": "ipython",
    "version": 2
   },
   "file_extension": ".py",
   "mimetype": "text/x-python",
   "name": "python",
   "nbconvert_exporter": "python",
   "pygments_lexer": "ipython2",
   "version": "2.7.13"
  }
 },
 "nbformat": 4,
 "nbformat_minor": 2
}

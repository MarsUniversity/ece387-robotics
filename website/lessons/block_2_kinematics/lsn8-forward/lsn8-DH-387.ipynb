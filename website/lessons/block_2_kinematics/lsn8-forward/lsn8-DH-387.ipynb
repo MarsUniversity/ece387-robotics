{
 "cells": [
  {
   "cell_type": "markdown",
   "metadata": {},
   "source": [
    "# Forward/Inverse Kinematics Examples\n",
    "\n",
    "Kevin Walchko\n",
    "Created: 10 July 2017\n",
    "\n",
    "---"
   ]
  },
  {
   "cell_type": "markdown",
   "metadata": {},
   "source": [
    "# Denavit-Hartenberg (DH)\n",
    "\n",
    "Development of the DH forward kinematics for a robot. We will use the DH method to develop the symbolic equations and use python to simplify them.\n",
    "\n",
    "![](https://upload.wikimedia.org/wikipedia/commons/thumb/d/d8/DHParameter.png/609px-DHParameter.png)\n",
    "\n"
   ]
  },
  {
   "cell_type": "code",
   "execution_count": 1,
   "metadata": {
    "collapsed": true
   },
   "outputs": [],
   "source": [
    "%matplotlib inline"
   ]
  },
  {
   "cell_type": "code",
   "execution_count": 44,
   "metadata": {
    "collapsed": true
   },
   "outputs": [],
   "source": [
    "from __future__ import print_function\n",
    "from __future__ import division\n",
    "import numpy as np\n",
    "from sympy import symbols, sin, cos, pi, simplify, trigsimp\n",
    "from math import radians as d2r\n",
    "from math import degrees as r2d\n",
    "from math import atan2, sqrt, acos, fabs\n",
    "from pprint import pprint"
   ]
  },
  {
   "cell_type": "markdown",
   "metadata": {},
   "source": [
    "# Kinematics\n",
    "\n",
    "Robot arms and legs are hard to control (lots of math), but required for most robotic applications.\n",
    "\n",
    "- [darpa robot challenge](https://www.youtube.com/watch?v=diaZFIUBMBQ)\n",
    "- [darpa robot fails](https://youtu.be/wX0KagJ1du8)\n",
    "\n",
    "## Coordinate Frames\n",
    "\n",
    "To help, we are going to follow a methodical way to assign coordinate frames to a robot. An example (sort of) is shown below:\n",
    "\n",
    "![](dh_pics/kuka-kr270.png)\n",
    "\n",
    "The KR270 has 6 joints and is a standard industrial type robot for building cars or what not."
   ]
  },
  {
   "cell_type": "markdown",
   "metadata": {
    "collapsed": true
   },
   "source": [
    "## Numerical Forward Kinematics\n",
    "\n",
    "---"
   ]
  },
  {
   "cell_type": "markdown",
   "metadata": {},
   "source": [
    "The following class follows the modified [DH convention](https://en.wikipedia.org/wiki/Denavit%E2%80%93Hartenberg_parameters). Where:\n",
    "\n",
    "| Parameter | Definition|\n",
    "|-----------|-----------|\n",
    "| $\\alpha_i$   | angle about common normal, from old z axis to new z axis (twist)|\n",
    "| $d_i$        | offset along previous z to the common normal |\n",
    "| $\\theta_i$   | angle about previous z, from old x to new x |\n",
    "| $a_i$        | length of the common normal. Assuming a revolute joint, this is the radius about previous z. |"
   ]
  },
  {
   "cell_type": "markdown",
   "metadata": {},
   "source": [
    "Now the transformation matrix ($T$), using modified DH parameters, is given by:\n",
    "\n",
    "$$ T = R_x(\\alpha_{n-1}) D_x(a_{n-1}) R_z(\\theta_n) D_z(d_n) $$\n",
    "\n",
    "We can then turn this into a python class as follows:"
   ]
  },
  {
   "cell_type": "code",
   "execution_count": 102,
   "metadata": {
    "collapsed": true
   },
   "outputs": [],
   "source": [
    "class mDH(object):\n",
    "    \"\"\"\n",
    "    This uses the modified DH parameters\n",
    "    see Craig, eqn (3.6)\n",
    "    \"\"\"\n",
    "    def __init__(self):\n",
    "        pass\n",
    "\n",
    "    def fk(self, params):\n",
    "        t = np.eye(4)\n",
    "        for p in params:\n",
    "            t = t.dot(self.makeT(*p))\n",
    "        return t\n",
    "\n",
    "    def makeT(self, a, alpha, d, theta):\n",
    "#         alpha = d2r(alpha)\n",
    "#         theta = d2r(theta)\n",
    "        return np.array([  # classic DH\n",
    "            [           cos(theta),           -sin(theta),           0,             a],\n",
    "            [sin(theta)*cos(alpha), cos(theta)*cos(alpha), -sin(alpha), -d*sin(alpha)],\n",
    "            [sin(theta)*sin(alpha), cos(theta)*sin(alpha),  cos(alpha),  d*cos(alpha)],\n",
    "            [                    0,                     0,           0,             1]\n",
    "        ])\n",
    "\n",
    "\n",
    "def printT(tt):\n",
    "    R = tt[0:3,0:3]\n",
    "    D = tt[0:3, 3]\n",
    "    print('-'*30)\n",
    "    print('Position:')\n",
    "    print('  x:', D[0])\n",
    "    print('  y:', D[1])\n",
    "    print('  z:', D[2])\n",
    "    # R(n, o, a)\n",
    "    print('-'*30)\n",
    "    print('Orientation')\n",
    "    print('  nx:', R[0,0])\n",
    "    print('  ny:', R[0,1])\n",
    "    print('  nz:', R[0,2])\n",
    "    print('')\n",
    "    print('  ox:', R[1,0])\n",
    "    print('  oy:', R[1,1])\n",
    "    print('  oz:', R[1,2])\n",
    "    print('')\n",
    "    print('  ax:', R[2,0])\n",
    "    print('  ay:', R[2,1])\n",
    "    print('  az:', R[2,2])\n",
    "\n",
    "    \n",
    "def simplifyT(tt):\n",
    "    \n",
    "    for i, row in enumerate(tt):\n",
    "        for j, col in enumerate(row):\n",
    "            tt[i,j] = simplify(col)\n",
    "    return tt"
   ]
  },
  {
   "cell_type": "markdown",
   "metadata": {},
   "source": [
    "## Symbolically Solving Forward Kinematics"
   ]
  },
  {
   "cell_type": "code",
   "execution_count": 31,
   "metadata": {
    "collapsed": true
   },
   "outputs": [],
   "source": [
    "t1, t2, t3 = symbols('t1 t2 t3')\n",
    "L1, L2, L3 = symbols('L1 L2 L3')"
   ]
  },
  {
   "cell_type": "code",
   "execution_count": 4,
   "metadata": {
    "collapsed": true
   },
   "outputs": [],
   "source": [
    "def eval(f, inputs):\n",
    "    \"\"\"\n",
    "    This allows you to simplify the trigonomic mess that kinematics can\n",
    "    create and also substitute in some inputs in the process\n",
    "    \"\"\"\n",
    "    c = []\n",
    "    for i in f:\n",
    "        r = []\n",
    "        for j in i:\n",
    "            tmp = j\n",
    "#             tmp = j.subs(inputs)\n",
    "            # substitute in any in puts if entered\n",
    "#             tmp = tmp.evalf()\n",
    "            # use python symbolic toolbox to simplify the trig mess above \n",
    "            tmp = simplify(tmp)\n",
    "            r.append(tmp)\n",
    "        c.append(r)\n",
    "    return np.array(c)"
   ]
  },
  {
   "cell_type": "markdown",
   "metadata": {},
   "source": [
    "The parameters are:\n",
    "\n",
    "| i |$a_i$        | $\\alpha_i$   | $d_i$   | $theta_i$  |\n",
    "|---|-------------|--------------|---------|------------|\n",
    "| 1 | 0           | 0            | 0       | $\\theta_1$ |\n",
    "| 2 | $L_1$       | 0            | 0       | $\\theta_2$ |\n",
    "| 3 | $L_2$       | 0            | 0       | $\\theta_3$ |\n"
   ]
  },
  {
   "cell_type": "code",
   "execution_count": 55,
   "metadata": {
    "collapsed": true,
    "scrolled": true
   },
   "outputs": [],
   "source": [
    "t1, t2, t3 = symbols('t1 t2 t3')\n",
    "L1, L2, L3 = symbols('L1 L2 L3')\n",
    "# a, alpha, d, theta\n",
    "params = [\n",
    "    [ 0, 0, 0, t1],  # DH parameters for the first link (i.e., the first row in the table above)\n",
    "    [L1, 0, 0, t2],  # 2nd link\n",
    "    [L2, 0, 0, t3]   # 3rd link\n",
    "]\n",
    "dh = mDH()\n",
    "t = dh.fk(params)\n",
    "t = eval(t,[])"
   ]
  },
  {
   "cell_type": "code",
   "execution_count": 56,
   "metadata": {},
   "outputs": [
    {
     "name": "stdout",
     "output_type": "stream",
     "text": [
      "Rotation Matrix:\n",
      "array([[1.0*cos(t1 + t2 + t3), -1.0*sin(t1 + t2 + t3), 0],\n",
      "       [1.0*sin(t1 + t2 + t3), 1.0*cos(t1 + t2 + t3), 0],\n",
      "       [0, 0, 1.00000000000000]], dtype=object)\n",
      "Position:\n",
      "  x: 1.0*L1*cos(t1) + 1.0*L2*cos(t1 + t2)\n",
      "  y: 1.0*L1*sin(t1) + 1.0*L2*sin(t1 + t2)\n",
      "  z: 0\n"
     ]
    }
   ],
   "source": [
    "R = t[0:3,0:3]\n",
    "print('Rotation Matrix:')\n",
    "pprint(R)\n",
    "D = t[0:3, 3]\n",
    "print('Position:')\n",
    "print('  x:', D[0])\n",
    "print('  y:', D[1])\n",
    "print('  z:', D[2])"
   ]
  },
  {
   "cell_type": "code",
   "execution_count": 25,
   "metadata": {
    "collapsed": true
   },
   "outputs": [],
   "source": [
    "# now, if we want better performance, you can just use the above solution\n",
    "# for our forward kinematics instead of building it each time we need it\n",
    "# using the mDH class (which is a lot more computational)\n",
    "def fk(t1, t2, d, L1, L2, L3):\n",
    "    t1 = d2r(t1)  # python uses radians, and typicall we use degrees, so fix it\n",
    "    t2 = d2r(t2)\n",
    "    return np.array([\n",
    "        1.0*L1*cos(t1) + 1.0*L2*cos(t1 + t2) + 1.0*L3*cos(t1 + t2),\n",
    "        1.0*L1*sin(t1) + 1.0*L2*sin(t1 + t2) + 1.0*L3*sin(t1 + t2),\n",
    "        0\n",
    "    ])"
   ]
  },
  {
   "cell_type": "markdown",
   "metadata": {},
   "source": [
    "# Inverse Kinematics\n",
    "\n",
    "\n",
    "---\n"
   ]
  },
  {
   "cell_type": "markdown",
   "metadata": {},
   "source": [
    "Assume the solution is this:\n",
    "\n",
    "$$\n",
    "\\begin{bmatrix}\n",
    "    c_{\\gamma} & -s_{\\gamma} & 0 & x \\\\\n",
    "    s_{\\gamma} & c_{\\gamma} & 0 & y \\\\\n",
    "    0 & 0 & 1 & 0 \\\\\n",
    "    0 & 0 & 0 & 1 \n",
    "\\end{bmatrix}\n",
    "$$\n",
    "\n",
    "Note, that there is simplifications here to make reading/writing these equations easier, such as:\n",
    "\n",
    "$$\n",
    "\\cos(\\theta_1) = c_1 \\\\\n",
    "\\sin(\\theta_1 + \\theta_1) = s_{12}\n",
    "$$\n",
    "\n",
    "Now set the above matrix equal to it, (and following along in Craig, p 110) we get:\n",
    "\n",
    "$$\n",
    "c_{\\gamma} = c_{123} \\\\\n",
    "s_{\\gamma} = s_{123} \\\\\n",
    "x = L1*c_1+L2*c_{12} \\\\\n",
    "y = L1*s_1+L1*s_{12}\n",
    "$$"
   ]
  },
  {
   "cell_type": "code",
   "execution_count": 110,
   "metadata": {
    "collapsed": true
   },
   "outputs": [],
   "source": [
    "def trans(tt):\n",
    "    # calculates the inverse of a tranformation matrix\n",
    "    r = tt[0:3,0:3]\n",
    "    d = tt[0:3, 3]\n",
    "#     print('r', r.transpose())\n",
    "    ret = np.eye(4, dtype=object)\n",
    "    ret[0:3,0:3] = r.transpose()\n",
    "#     rt = r.transpose()\n",
    "#     for i in range(3):\n",
    "#         for j in range(3):\n",
    "#             ret[i,j] = rt[i,j]\n",
    "    ret[0:3,3] = -r.transpose().dot(d)\n",
    "    return ret"
   ]
  },
  {
   "cell_type": "code",
   "execution_count": 88,
   "metadata": {},
   "outputs": [
    {
     "name": "stdout",
     "output_type": "stream",
     "text": [
      "[[1.0*cos(t1 + t2 + t3) -1.0*sin(t1 + t2 + t3) 0\n",
      "  1.0*L1*cos(t1) + 1.0*L2*cos(t1 + t2)]\n",
      " [1.0*sin(t1 + t2 + t3) 1.0*cos(t1 + t2 + t3) 0\n",
      "  1.0*L1*sin(t1) + 1.0*L2*sin(t1 + t2)]\n",
      " [0 0 1.00000000000000 0]\n",
      " [0 0 0 1.00000000000000]]\n",
      "--------------------\n",
      "[[1.0*cos(t1 + t2 + t3) 1.0*sin(t1 + t2 + t3) 0\n",
      "  -1.0*(1.0*L1*sin(t1) + 1.0*L2*sin(t1 + t2))*sin(t1 + t2 + t3) - 1.0*(1.0*L1*cos(t1) + 1.0*L2*cos(t1 + t2))*cos(t1 + t2 + t3)]\n",
      " [-1.0*sin(t1 + t2 + t3) 1.0*cos(t1 + t2 + t3) 0\n",
      "  -1.0*(1.0*L1*sin(t1) + 1.0*L2*sin(t1 + t2))*cos(t1 + t2 + t3) + 1.0*(1.0*L1*cos(t1) + 1.0*L2*cos(t1 + t2))*sin(t1 + t2 + t3)]\n",
      " [0 0 1.00000000000000 0]\n",
      " [0 0 0 1]]\n"
     ]
    }
   ],
   "source": [
    "print(t)\n",
    "print('-'*20)\n",
    "print(trans(t))"
   ]
  },
  {
   "cell_type": "markdown",
   "metadata": {},
   "source": [
    "# Test"
   ]
  },
  {
   "cell_type": "code",
   "execution_count": 48,
   "metadata": {
    "scrolled": true
   },
   "outputs": [
    {
     "name": "stdout",
     "output_type": "stream",
     "text": [
      "array([[1.00000000000000, 0, 0, 0],\n",
      "       [0, 1.00000000000000, 0, 0],\n",
      "       [0, 0, 1.00000000000000, 0],\n",
      "       [0, 0, 0, 1.00000000000000]], dtype=object)\n"
     ]
    }
   ],
   "source": [
    "L, d = symbols('L d')\n",
    "# a, alpha, d, theta\n",
    "params = [\n",
    "    [ 0, 0, 0, 0]\n",
    "]\n",
    "dh = mDH()\n",
    "t = dh.fk(params)\n",
    "pprint(t)"
   ]
  },
  {
   "cell_type": "code",
   "execution_count": 72,
   "metadata": {},
   "outputs": [
    {
     "name": "stdout",
     "output_type": "stream",
     "text": [
      "[[1 2]\n",
      " [3 4]]\n",
      "[[1 3]\n",
      " [2 4]]\n",
      "[[1 2]\n",
      " [3 4]]\n"
     ]
    }
   ],
   "source": [
    "m = np.array([[1,2],[3,4]])\n",
    "print(m)\n",
    "print(m.transpose())\n",
    "print(m)"
   ]
  },
  {
   "cell_type": "code",
   "execution_count": 75,
   "metadata": {},
   "outputs": [
    {
     "name": "stdout",
     "output_type": "stream",
     "text": [
      "[[5 5]\n",
      " [3 4]]\n"
     ]
    }
   ],
   "source": [
    "m[0, 0:2] = np.array([5,5])\n",
    "print(m)"
   ]
  },
  {
   "cell_type": "code",
   "execution_count": 82,
   "metadata": {},
   "outputs": [
    {
     "name": "stdout",
     "output_type": "stream",
     "text": [
      "array([[1, 0, 0, 0],\n",
      "       [0, 1, 0, 0],\n",
      "       [0, 0, 1, 0],\n",
      "       [0, 0, 0, 1]], dtype=object)\n"
     ]
    }
   ],
   "source": [
    "i = np.eye(4, dtype=object)\n",
    "pprint(i)"
   ]
  },
  {
   "cell_type": "markdown",
   "metadata": {
    "scrolled": true
   },
   "source": [
    "## Lynx Motion AL5D\n",
    "\n",
    "![](dh_pics/linx_motion_al5d.jpg)"
   ]
  },
  {
   "cell_type": "code",
   "execution_count": 112,
   "metadata": {},
   "outputs": [
    {
     "name": "stdout",
     "output_type": "stream",
     "text": [
      "------------------------------\n",
      "Position:\n",
      "  x: 1.0*(a3*cos(t2) + a4*cos(t2 + t3) + a5*cos(t2 + t3 + t4))*cos(t1)\n",
      "  y: 1.0*(a3*cos(t2) + a4*cos(t2 + t3) + a5*cos(t2 + t3 + t4))*sin(t1)\n",
      "  z: 1.0*a2 + 1.0*a3*sin(t2) + 1.0*a4*sin(t2 + t3) + 1.0*a5*sin(t2 + t3 + t4)\n",
      "------------------------------\n",
      "Orientation\n",
      "  nx: 1.0*cos(t1)*cos(t2 + t3 + t4)\n",
      "  ny: -1.0*sin(t2 + t3 + t4)*cos(t1)\n",
      "  nz: 1.0*sin(t1)\n",
      "\n",
      "  ox: 1.0*sin(t1)*cos(t2 + t3 + t4)\n",
      "  oy: -1.0*sin(t1)*sin(t2 + t3 + t4)\n",
      "  oz: -1.0*cos(t1)\n",
      "\n",
      "  ax: 1.0*sin(t2 + t3 + t4)\n",
      "  ay: 1.0*cos(t2 + t3 + t4)\n",
      "  az: 0\n"
     ]
    }
   ],
   "source": [
    "t1, t2, t3, t4 = symbols('t1 t2 t3 t4')\n",
    "a2, a3, a4, a5 = symbols('a2 a3 a4 a5')\n",
    "ca, sa, px, py, pz = symbols('ca sa px py pz')\n",
    "\n",
    "desired = np.array([[ca, 0, sa, px], [-sa, 0, ca, py], [0, -1, 0, pz], [0, 0, 0, 1]])\n",
    "\n",
    "# a2 = 2.75   # base to shoulder\n",
    "# a3 = 5.75   # shoulder to elbow\n",
    "# a4 = 7.375  # elbow to wrist\n",
    "# a5 = 3.375  # wrist to end effector\n",
    "\n",
    "# put all angles in rads\n",
    "# sybolic can't handle converting a symbol using d2r()\n",
    "# a, alpha, d, theta\n",
    "params = [\n",
    "    [    0,    0,    a2, t1],\n",
    "    [    0, pi/2,   0, t2],\n",
    "    [   a3,    0,    0, t3],\n",
    "    [   a4,    0,    0, t4],\n",
    "    [   a5,    0,    0,  0]\n",
    "]\n",
    "dh = mDH()\n",
    "al5d = dh.fk(params)\n",
    "al5d = eval(al5d,[])\n",
    "printT(al5d)"
   ]
  },
  {
   "cell_type": "code",
   "execution_count": 118,
   "metadata": {},
   "outputs": [
    {
     "name": "stdout",
     "output_type": "stream",
     "text": [
      "[[1.0*cos(t1)*cos(t2) -1.0*sin(t2)*cos(t1) 1.0*sin(t1) 0]\n",
      " [1.0*sin(t1)*cos(t2) -1.0*sin(t1)*sin(t2) -1.0*cos(t1) 0]\n",
      " [1.0*sin(t2) 1.0*cos(t2) 0 1.0*a2]\n",
      " [0 0 0 1.00000000000000]]\n",
      "------------------------------\n",
      "Position:\n",
      "  x: 1.0*a3 + 1.0*a4*cos(t3) + 1.0*a5*cos(t3 + t4)\n",
      "  y: 1.0*a4*sin(t3) + 1.0*a5*sin(t3 + t4)\n",
      "  z: 0\n",
      "------------------------------\n",
      "Orientation\n",
      "  nx: 1.0*cos(t3 + t4)\n",
      "  ny: -1.0*sin(t3 + t4)\n",
      "  nz: 0\n",
      "\n",
      "  ox: 1.0*sin(t3 + t4)\n",
      "  oy: 1.0*cos(t3 + t4)\n",
      "  oz: 0\n",
      "\n",
      "  ax: 0\n",
      "  ay: 0\n",
      "  az: 1.00000000000000\n",
      "------------------------------\n",
      "Position:\n",
      "  x: -1.0*a2*sin(t2) + 1.0*px*cos(t1)*cos(t2) + 1.0*py*sin(t1)*cos(t2) + 1.0*pz*sin(t2)\n",
      "  y: -1.0*a2*cos(t2) - 1.0*px*sin(t2)*cos(t1) - 1.0*py*sin(t1)*sin(t2) + 1.0*pz*cos(t2)\n",
      "  z: 1.0*px*sin(t1) - 1.0*py*cos(t1)\n",
      "------------------------------\n",
      "Orientation\n",
      "  nx: 1.0*ca*cos(t1)*cos(t2) - 1.0*sa*sin(t1)*cos(t2)\n",
      "  ny: -1.0*sin(t2)\n",
      "  nz: 1.0*ca*sin(t1)*cos(t2) + 1.0*sa*cos(t1)*cos(t2)\n",
      "\n",
      "  ox: -1.0*ca*sin(t2)*cos(t1) + 1.0*sa*sin(t1)*sin(t2)\n",
      "  oy: -1.0*cos(t2)\n",
      "  oz: -1.0*ca*sin(t1)*sin(t2) - 1.0*sa*sin(t2)*cos(t1)\n",
      "\n",
      "  ax: 1.0*ca*sin(t1) + 1.0*sa*cos(t1)\n",
      "  ay: 0\n",
      "  az: -1.0*ca*cos(t1) + 1.0*sa*sin(t1)\n"
     ]
    }
   ],
   "source": [
    "# a, alpha, d, theta\n",
    "params = [\n",
    "    [    0,    0,    a2, t1],\n",
    "    [    0, pi/2,   0, t2]\n",
    "]\n",
    "dh = mDH()\n",
    "t_12 = dh.fk(params)\n",
    "t_12 = eval(t_12,[])\n",
    "print(t_12)\n",
    "tt_12 = trans(t_12)\n",
    "a_35 = tt_12.dot(al5d)\n",
    "a_35 = simplifyT(a_35)\n",
    "printT(a_35)\n",
    "\n",
    "d_35 = tt_12.dot(desired)\n",
    "printT(d_35)"
   ]
  },
  {
   "cell_type": "code",
   "execution_count": 117,
   "metadata": {},
   "outputs": [
    {
     "name": "stdout",
     "output_type": "stream",
     "text": [
      "[[1.0*cos(t1) -1.0*sin(t1) 0 0]\n",
      " [1.0*sin(t1) 1.0*cos(t1) 0 0]\n",
      " [0 0 1.00000000000000 1.0*a2]\n",
      " [0 0 0 1.00000000000000]]\n",
      "------------------------------\n",
      "Position:\n",
      "  x: 1.0*a3*cos(t2) + 1.0*a4*cos(t2 + t3) + 1.0*a5*cos(t2 + t3 + t4)\n",
      "  y: 0\n",
      "  z: 1.0*a3*sin(t2) + 1.0*a4*sin(t2 + t3) + 1.0*a5*sin(t2 + t3 + t4)\n",
      "------------------------------\n",
      "Orientation\n",
      "  nx: 1.0*cos(t2 + t3 + t4)\n",
      "  ny: -1.0*sin(t2 + t3 + t4)\n",
      "  nz: 0\n",
      "\n",
      "  ox: 0\n",
      "  oy: 0\n",
      "  oz: -1.00000000000000\n",
      "\n",
      "  ax: 1.0*sin(t2 + t3 + t4)\n",
      "  ay: 1.0*cos(t2 + t3 + t4)\n",
      "  az: 0\n",
      "------------------------------\n",
      "Position:\n",
      "  x: 1.0*px*cos(t1) + 1.0*py*sin(t1)\n",
      "  y: -1.0*px*sin(t1) + 1.0*py*cos(t1)\n",
      "  z: -1.0*a2 + 1.0*pz\n",
      "------------------------------\n",
      "Orientation\n",
      "  nx: 1.0*ca*cos(t1) - 1.0*sa*sin(t1)\n",
      "  ny: 0\n",
      "  nz: 1.0*ca*sin(t1) + 1.0*sa*cos(t1)\n",
      "\n",
      "  ox: -1.0*ca*sin(t1) - 1.0*sa*cos(t1)\n",
      "  oy: 0\n",
      "  oz: 1.0*ca*cos(t1) - 1.0*sa*sin(t1)\n",
      "\n",
      "  ax: 0\n",
      "  ay: -1.00000000000000\n",
      "  az: 0\n"
     ]
    }
   ],
   "source": [
    "# a, alpha, d, theta\n",
    "params = [\n",
    "    [    0,    0,    a2, t1]\n",
    "]\n",
    "dh = mDH()\n",
    "t_1 = dh.fk(params)\n",
    "t_1 = eval(t_1,[])\n",
    "print(t_1)\n",
    "tt_1 = trans(t_1)\n",
    "a_25 = tt_1.dot(al5d)\n",
    "a_25 = simplifyT(a_25)\n",
    "printT(a_25)\n",
    "\n",
    "d_25 = tt_1.dot(desired)\n",
    "printT(d_25)"
   ]
  },
  {
   "cell_type": "code",
   "execution_count": 119,
   "metadata": {},
   "outputs": [
    {
     "name": "stdout",
     "output_type": "stream",
     "text": [
      "------------------------------\n",
      "Position:\n",
      "  x: 1.0*a4 + 1.0*a5*cos(t4)\n",
      "  y: 1.0*a5*sin(t4)\n",
      "  z: 0\n",
      "------------------------------\n",
      "Orientation\n",
      "  nx: 1.0*cos(t4)\n",
      "  ny: -1.0*sin(t4)\n",
      "  nz: 0\n",
      "\n",
      "  ox: 1.0*sin(t4)\n",
      "  oy: 1.0*cos(t4)\n",
      "  oz: 0\n",
      "\n",
      "  ax: 0\n",
      "  ay: 0\n",
      "  az: 1.00000000000000\n",
      "------------------------------\n",
      "Position:\n",
      "  x: -1.0*a3*sin(t1)**2*cos(t2)*cos(t2 + t3) - 1.0*a3*cos(t1)**2*cos(t2)*cos(t2 + t3) + 1.0*px*cos(t1)*cos(t2 + t3) + 1.0*py*sin(t1)*cos(t2 + t3) + 1.0*pz*sin(t2 + t3) - 1.0*(1.0*a2 + 1.0*a3*sin(t2))*sin(t2 + t3)\n",
      "  y: 1.0*a3*sin(t1)**2*sin(t2 + t3)*cos(t2) + 1.0*a3*sin(t2 + t3)*cos(t1)**2*cos(t2) - 1.0*px*sin(t2 + t3)*cos(t1) - 1.0*py*sin(t1)*sin(t2 + t3) + 1.0*pz*cos(t2 + t3) - 1.0*(1.0*a2 + 1.0*a3*sin(t2))*cos(t2 + t3)\n",
      "  z: 1.0*px*sin(t1) - 1.0*py*cos(t1)\n",
      "------------------------------\n",
      "Orientation\n",
      "  nx: 1.0*ca*cos(t1)*cos(t2 + t3) - 1.0*sa*sin(t1)*cos(t2 + t3)\n",
      "  ny: -1.0*sin(t2 + t3)\n",
      "  nz: 1.0*ca*sin(t1)*cos(t2 + t3) + 1.0*sa*cos(t1)*cos(t2 + t3)\n",
      "\n",
      "  ox: -1.0*ca*sin(t2 + t3)*cos(t1) + 1.0*sa*sin(t1)*sin(t2 + t3)\n",
      "  oy: -1.0*cos(t2 + t3)\n",
      "  oz: -1.0*ca*sin(t1)*sin(t2 + t3) - 1.0*sa*sin(t2 + t3)*cos(t1)\n",
      "\n",
      "  ax: 1.0*ca*sin(t1) + 1.0*sa*cos(t1)\n",
      "  ay: 0\n",
      "  az: -1.0*ca*cos(t1) + 1.0*sa*sin(t1)\n"
     ]
    }
   ],
   "source": [
    "# a, alpha, d, theta\n",
    "params = [\n",
    "    [    0,    0,    a2, t1],\n",
    "    [    0, pi/2,   0, t2],\n",
    "    [   a3,    0,    0, t3]\n",
    "]\n",
    "dh = mDH()\n",
    "t_13 = dh.fk(params)\n",
    "t_13 = eval(t_13,[])\n",
    "# print(t_13)\n",
    "tt_13 = trans(t_13)\n",
    "a_45 = tt_13.dot(al5d)\n",
    "a_45 = simplifyT(a_45)\n",
    "printT(a_45)\n",
    "\n",
    "d_45 = tt_13.dot(desired)\n",
    "printT(d_45)"
   ]
  },
  {
   "cell_type": "markdown",
   "metadata": {
    "collapsed": true
   },
   "source": [
    "# Puma\n",
    "\n",
    "![](dh_pics/puma.png)\n",
    "\n",
    "Craig, p 80"
   ]
  },
  {
   "cell_type": "code",
   "execution_count": 55,
   "metadata": {
    "collapsed": true
   },
   "outputs": [],
   "source": [
    "t1, t2, t3, t4, t5, t6 = symbols('t1 t2 t3 t4 t5 t6')\n",
    "a2, a3, d3, d4 = symbols('a2 a3 d3 d4')\n",
    "# a, alpha, d, theta\n",
    "params = [\n",
    "    [    0,     0,    0, t1],\n",
    "    [    0, -pi/2,    0, t2],\n",
    "    [   a2,     0,   d3, t3],\n",
    "    [   a3, -pi/2,   d4, t4],\n",
    "    [    0,    pi,    0, t5],\n",
    "    [    0, -pi/2,    0, t6]\n",
    "]\n",
    "dh = mDH()\n",
    "pumma = dh.fk(params)\n",
    "pumma = eval(pumma,[])"
   ]
  },
  {
   "cell_type": "code",
   "execution_count": 56,
   "metadata": {},
   "outputs": [
    {
     "name": "stdout",
     "output_type": "stream",
     "text": [
      "Rotation Matrix:\n",
      "array([[ 1.0*(sin(t1)*sin(t4 - t5) + cos(t1)*cos(t2 + t3)*cos(t4 - t5))*cos(t6) - 1.0*sin(t6)*sin(t2 + t3)*cos(t1),\n",
      "        -1.0*(sin(t1)*sin(t4 - t5) + cos(t1)*cos(t2 + t3)*cos(t4 - t5))*sin(t6) - 1.0*sin(t2 + t3)*cos(t1)*cos(t6),\n",
      "        -1.0*sin(t1)*cos(t4 - t5) + 1.0*sin(t4 - t5)*cos(t1)*cos(t2 + t3)],\n",
      "       [ 1.0*(sin(t1)*cos(t2 + t3)*cos(t4 - t5) - sin(t4 - t5)*cos(t1))*cos(t6) - 1.0*sin(t1)*sin(t6)*sin(t2 + t3),\n",
      "        -1.0*(sin(t1)*cos(t2 + t3)*cos(t4 - t5) - sin(t4 - t5)*cos(t1))*sin(t6) - 1.0*sin(t1)*sin(t2 + t3)*cos(t6),\n",
      "        1.0*sin(t1)*sin(t4 - t5)*cos(t2 + t3) + 1.0*cos(t1)*cos(t4 - t5)],\n",
      "       [-1.0*sin(t6)*cos(t2 + t3) - 1.0*sin(t2 + t3)*cos(t6)*cos(t4 - t5),\n",
      "        1.0*sin(t6)*sin(t2 + t3)*cos(t4 - t5) - 1.0*cos(t6)*cos(t2 + t3),\n",
      "        -1.0*sin(t2 + t3)*sin(t4 - t5)]], dtype=object)\n",
      "Position:\n",
      "  x: 1.0*a2*cos(t1)*cos(t2) + 1.0*a3*cos(t1)*cos(t2 + t3) - 1.0*d3*sin(t1) - 1.0*d4*sin(t2 + t3)*cos(t1)\n",
      "  y: 1.0*a2*sin(t1)*cos(t2) + 1.0*a3*sin(t1)*cos(t2 + t3) + 1.0*d3*cos(t1) - 1.0*d4*sin(t1)*sin(t2 + t3)\n",
      "  z: -1.0*a2*sin(t2) - 1.0*a3*sin(t2 + t3) - 1.0*d4*cos(t2 + t3)\n"
     ]
    }
   ],
   "source": [
    "R = pumma[0:3,0:3]\n",
    "print('Rotation Matrix:')\n",
    "pprint(R)\n",
    "D = pumma[0:3, 3]\n",
    "print('Position:')\n",
    "print('  x:', D[0])\n",
    "print('  y:', D[1])\n",
    "print('  z:', D[2])"
   ]
  },
  {
   "cell_type": "code",
   "execution_count": 52,
   "metadata": {},
   "outputs": [
    {
     "data": {
      "text/plain": [
       "0"
      ]
     },
     "execution_count": 52,
     "metadata": {},
     "output_type": "execute_result"
    }
   ],
   "source": [
    "cos(pi/2)"
   ]
  },
  {
   "cell_type": "code",
   "execution_count": null,
   "metadata": {
    "collapsed": true
   },
   "outputs": [],
   "source": []
  },
  {
   "cell_type": "markdown",
   "metadata": {},
   "source": [
    "\n",
    "-----------\n",
    "\n",
    "<a rel=\"license\" href=\"http://creativecommons.org/licenses/by-sa/4.0/\"><img alt=\"Creative Commons License\" style=\"border-width:0\" src=\"https://i.creativecommons.org/l/by-sa/4.0/88x31.png\" /></a><br />This work is licensed under a <a rel=\"license\" href=\"http://creativecommons.org/licenses/by-sa/4.0/\">Creative Commons Attribution-ShareAlike 4.0 International License</a>."
   ]
  }
 ],
 "metadata": {
  "kernelspec": {
   "display_name": "Python 2",
   "language": "python",
   "name": "python2"
  },
  "language_info": {
   "codemirror_mode": {
    "name": "ipython",
    "version": 3
   },
   "file_extension": ".py",
   "mimetype": "text/x-python",
   "name": "python",
   "nbconvert_exporter": "python",
   "pygments_lexer": "ipython3",
   "version": "3.6.1"
  }
 },
 "nbformat": 4,
 "nbformat_minor": 1
}

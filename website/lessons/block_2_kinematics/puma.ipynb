{
 "cells": [
  {
   "cell_type": "markdown",
   "metadata": {},
   "source": [
    "# Puma\n",
    "\n",
    "Kevin J. Walchko, created 12 Aug 2017\n",
    "\n",
    "----\n",
    "\n",
    "![](dh_pics/puma.png)\n",
    "\n",
    "Craig, p 80"
   ]
  },
  {
   "cell_type": "code",
   "execution_count": 1,
   "metadata": {
    "collapsed": true
   },
   "outputs": [],
   "source": [
    "%matplotlib inline"
   ]
  },
  {
   "cell_type": "code",
   "execution_count": 2,
   "metadata": {
    "collapsed": true
   },
   "outputs": [],
   "source": [
    "from __future__ import print_function\n",
    "from __future__ import division\n",
    "import numpy as np\n",
    "from sympy import symbols, sin, cos, pi, simplify\n",
    "# from math import radians as d2r\n",
    "# from math import degrees as r2d\n",
    "from math import atan2, sqrt, acos"
   ]
  },
  {
   "cell_type": "code",
   "execution_count": 3,
   "metadata": {},
   "outputs": [],
   "source": [
    "from common import mDH, eval, subs, printT"
   ]
  },
  {
   "cell_type": "code",
   "execution_count": 7,
   "metadata": {},
   "outputs": [],
   "source": [
    "t1, t2, t3, t4, t5, t6 = symbols('t1 t2 t3 t4 t5 t6')\n",
    "a2, a3, d3, d4 = symbols('a2 a3 d3 d4')\n",
    "# a, alpha, d, theta\n",
    "params = [\n",
    "    [    0,     0,    0, t1],\n",
    "    [    0, -pi/2,    0, t2],\n",
    "    [   a2,     0,   d3, t3],\n",
    "    [   a3, -pi/2,   d4, t4],\n",
    "    [    0,    pi,    0, t5],\n",
    "    [    0, -pi/2,    0, t6]\n",
    "]\n",
    "dh = mDH()\n",
    "puma = dh.fk(params)\n",
    "puma = eval(puma)"
   ]
  },
  {
   "cell_type": "code",
   "execution_count": 8,
   "metadata": {},
   "outputs": [
    {
     "name": "stdout",
     "output_type": "stream",
     "text": [
      "------------------------------\n",
      "Position:\n",
      "  x: 1.0*a2*cos(t1)*cos(t2) + 1.0*a3*cos(t1)*cos(t2 + t3) - 1.0*d3*sin(t1) - 1.0*d4*sin(t2 + t3)*cos(t1)\n",
      "  y: 1.0*a2*sin(t1)*cos(t2) + 1.0*a3*sin(t1)*cos(t2 + t3) + 1.0*d3*cos(t1) - 1.0*d4*sin(t1)*sin(t2 + t3)\n",
      "  z: -1.0*a2*sin(t2) - 1.0*a3*sin(t2 + t3) - 1.0*d4*cos(t2 + t3)\n",
      "------------------------------\n",
      "Orientation\n",
      "  nx: 1.0*(sin(t1)*sin(t4 - t5) + cos(t1)*cos(t2 + t3)*cos(t4 - t5))*cos(t6) - 1.0*sin(t6)*sin(t2 + t3)*cos(t1)\n",
      "  ny: -1.0*(sin(t1)*sin(t4 - t5) + cos(t1)*cos(t2 + t3)*cos(t4 - t5))*sin(t6) - 1.0*sin(t2 + t3)*cos(t1)*cos(t6)\n",
      "  nz: -1.0*sin(t1)*cos(t4 - t5) + 1.0*sin(t4 - t5)*cos(t1)*cos(t2 + t3)\n",
      "\n",
      "  ox: 1.0*(sin(t1)*cos(t2 + t3)*cos(t4 - t5) - sin(t4 - t5)*cos(t1))*cos(t6) - 1.0*sin(t1)*sin(t6)*sin(t2 + t3)\n",
      "  oy: -1.0*(sin(t1)*cos(t2 + t3)*cos(t4 - t5) - sin(t4 - t5)*cos(t1))*sin(t6) - 1.0*sin(t1)*sin(t2 + t3)*cos(t6)\n",
      "  oz: 1.0*sin(t1)*sin(t4 - t5)*cos(t2 + t3) + 1.0*cos(t1)*cos(t4 - t5)\n",
      "\n",
      "  ax: -1.0*sin(t6)*cos(t2 + t3) - 1.0*sin(t2 + t3)*cos(t6)*cos(t4 - t5)\n",
      "  ay: 1.0*sin(t6)*sin(t2 + t3)*cos(t4 - t5) - 1.0*cos(t6)*cos(t2 + t3)\n",
      "  az: -1.0*sin(t2 + t3)*sin(t4 - t5)\n"
     ]
    }
   ],
   "source": [
    "printT(puma)"
   ]
  },
  {
   "cell_type": "code",
   "execution_count": null,
   "metadata": {
    "collapsed": true
   },
   "outputs": [],
   "source": []
  },
  {
   "cell_type": "code",
   "execution_count": null,
   "metadata": {
    "collapsed": true
   },
   "outputs": [],
   "source": []
  },
  {
   "cell_type": "code",
   "execution_count": null,
   "metadata": {
    "collapsed": true
   },
   "outputs": [],
   "source": []
  },
  {
   "cell_type": "code",
   "execution_count": null,
   "metadata": {
    "collapsed": true
   },
   "outputs": [],
   "source": []
  },
  {
   "cell_type": "markdown",
   "metadata": {},
   "source": [
    "\n",
    "-----------\n",
    "\n",
    "<a rel=\"license\" href=\"http://creativecommons.org/licenses/by-sa/4.0/\"><img alt=\"Creative Commons License\" style=\"border-width:0\" src=\"https://i.creativecommons.org/l/by-sa/4.0/88x31.png\" /></a><br />This work is licensed under a <a rel=\"license\" href=\"http://creativecommons.org/licenses/by-sa/4.0/\">Creative Commons Attribution-ShareAlike 4.0 International License</a>."
   ]
  }
 ],
 "metadata": {
  "kernelspec": {
   "display_name": "Python 2",
   "language": "python",
   "name": "python2"
  },
  "language_info": {
   "codemirror_mode": {
    "name": "ipython",
    "version": 3
   },
   "file_extension": ".py",
   "mimetype": "text/x-python",
   "name": "python",
   "nbconvert_exporter": "python",
   "pygments_lexer": "ipython3",
   "version": "3.6.1"
  }
 },
 "nbformat": 4,
 "nbformat_minor": 2
}

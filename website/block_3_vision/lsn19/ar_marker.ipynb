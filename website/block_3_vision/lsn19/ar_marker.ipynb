{
 "cells": [
  {
   "cell_type": "markdown",
   "metadata": {},
   "source": [
    "# Augmented Reality Markers (ar_markers)\n",
    "\n",
    "Kevin J. Walchko, created 11 July 2017\n",
    "\n",
    "----------\n",
    "\n",
    "We are not going to do augmented reality, but we are going to learn how the markers work and use it for robotics. This will also give you insite to how [QR codes](https://en.wikipedia.org/wiki/QR_code) work. For our applications, we want to be able to mark real world objects and have our robot know what they are.\n",
    "\n",
    "## References\n",
    "\n",
    "- [Source artical for the overview of how the marker works](http://iplimage.com/blog/approach-encodedecode-black-white-marker/)\n",
    "- [Hamming (7,4)](https://en.wikipedia.org/wiki/Hamming(7,4))\n",
    "\n",
    "## Setup"
   ]
  },
  {
   "cell_type": "code",
   "execution_count": 2,
   "metadata": {
    "collapsed": true
   },
   "outputs": [],
   "source": [
    "%matplotlib inline"
   ]
  },
  {
   "cell_type": "code",
   "execution_count": 3,
   "metadata": {
    "collapsed": true
   },
   "outputs": [],
   "source": [
    "from __future__ import print_function\n",
    "from __future__ import division\n",
    "import numpy as np\n",
    "from matplotlib import pyplot as plt\n",
    "import cv2\n",
    "import time\n",
    "\n",
    "# make sure you have installed the library with:\n",
    "#    pip install -U ar_markers\n",
    "from ar_markers import detect_markers"
   ]
  },
  {
   "cell_type": "markdown",
   "metadata": {},
   "source": [
    "\n",
    "## How Do Marker Work?\n",
    "\n",
    "![](ar_marker_pics/1D_2D_3D.png)\n",
    "![](ar_marker_pics/markers.png)\n",
    "\n",
    "There are lots of different types of markers out there in the world. Some are free to use and some are protected by intellectual property rights. Markers that machines can read range from simple bar codes on food products that can be scaned to much more complex 2D and 3D markers. We are going to look at a simple but useful type of 2D marker shown below.\n",
    "\n",
    "![](ar_marker_pics/flyer-hamming.png)\n",
    "\n",
    "The approach implemented and here uses a type of Hamming code with the possibility to correct errors. This error correction is particularly useful when the marker is small or blurred in the image. Also, the idea is to be able to decipher the code provided by the marker without having to rotate it because there is a known pattern. Once that’s done, it becomes easy to use the black and white squares to read the signature and, if necessary, correct the code if an error is found.\n",
    "\n",
    "## Hamming Code [7,4]\n",
    "\n",
    "![](https://upload.wikimedia.org/wikipedia/en/0/08/Richard_Hamming.jpg)\n",
    "\n",
    "First let's take a little side step and understand how a 7 bit hamming code works. In coding theory, Hamming(7,4) is a linear error-correcting code that encodes four bits of data into seven bits by adding three parity bits. It is a member of a larger family of Hamming codes, but the term Hamming code often refers to this specific code that [Richard W. Hamming](https://en.wikipedia.org/wiki/Richard_Hamming) introduced in 1950. At the time, Hamming worked at Bell Telephone Laboratories and was frustrated with the error-prone punched card reader, which is why he started working on error-correcting codes.\n",
    "\n",
    "The marker shown above is a 5x5 grid marker with a Hamming code [7,4] to detect and help correct errors. This form of hamming code uses 7 bits with 4 bits of data and 3 bits of parity. This code is capable of correcting 1 error or bit flip.\n",
    "\n",
    "![](https://upload.wikimedia.org/wikipedia/commons/thumb/b/b0/Hamming%287%2C4%29.svg/350px-Hamming%287%2C4%29.svg.png)\n",
    "\n",
    "A nice graphical interpritation is shown above. The idea is the data bits $d_1, d_2, d_3, d_4$ are covered by multiple parity bits giving redundancy. For example $d_1$ is covered by $p_1$ and $p_2$ while $d_2$ is covered by $p_1$ and $p_3$. This redundancy allows the code to correct for 1 error. Error can come from many sources:\n",
    "\n",
    "- the marker is damaged\n",
    "- a read error occurred due to:\n",
    "    - lighting\n",
    "    - camera noise\n",
    "    - atmosphere interfearance\n",
    "    - data bit falls between 2 pixels and is read incorrectly\n",
    "    - etc\n",
    "\n",
    "Given a 4 bit message (m) we can encode it use a code *generator matrix* ($G_{4 \\times 7}$). We can also check the parity of an encoded message (e) using a *parity check matrix* ($H_{3 \\times 7}$). To decode an encoded message we will use a *regeneration matrix* (R). Where:\n",
    "\n",
    "$$\n",
    "G = \\begin{bmatrix}\n",
    "    1 & 1 & 0 & 1 \\\\\n",
    "    1 & 0 & 1 & 1 \\\\\n",
    "    1 & 0 & 0 & 0 \\\\\n",
    "    0 & 1 & 1 & 1 \\\\\n",
    "    0 & 1 & 0 & 0 \\\\\n",
    "    0 & 0 & 1 & 0 \\\\\n",
    "    0 & 0 & 0 & 1 \n",
    "\\end{bmatrix} \\\\\n",
    "H = \\begin{bmatrix}\n",
    "    1 & 1 & 1 & 0 & 1 & 0 & 0 \\\\\n",
    "    1 & 0 & 1 & 1 & 0 & 1 & 0 \\\\\n",
    "    1 & 1 & 0 & 1 & 0 & 0 & 1 \n",
    "\\end{bmatrix} \\\\\n",
    "R = \\begin{bmatrix}\n",
    "    1 & 0 & 1 & 0 & 1 & 0 & 1 \\\\\n",
    "    0 & 1 & 1 & 0 & 0 & 1 & 1 \\\\\n",
    "    0 & 0 & 0 & 1 & 1 & 1 & 1\n",
    "\\end{bmatrix} \\\\\n",
    "e = G \\times m = \\begin{bmatrix} d_1 & d_2 & d_3 & d_4 & p_1 & p_2 & p_3 \\end{bmatrix} \\\\\n",
    "\\text{parity check} = H \\times e \\\\\n",
    "m = R \\times e\n",
    "$$\n",
    "\n",
    "A good message has the parity check result in $\\begin{bmatrix} 0 & 0 & 0 \\end{bmatrix}$. If an error is present, the parity bits form a binary number which tells you which of the 7 bits is flipped. Again, this can only handle 1 error and correct.\n",
    "\n",
    "## Step 1: Find the Pattern\n",
    "\n",
    "Once marker’s borders are found in the image, we are looking at four specific squares place at the corners of our 5×5 pattern (see the picture). These registration marks tell us where the data and parity bits are in the 5x5 array.\n",
    "\n",
    "![](ar_marker_pics/flyer-hamming-s1.png)\n",
    "\n",
    "## Step 2: Read the Signature\n",
    "\n",
    "The orientation decided we can construct the signature. In the 5×5 case it’s straightforward to read 3 signatures that contains 7 bits. Then for each signature:\n",
    "\n",
    "- compute the binary parity vector (composed of 3 bits) and check if any error,\n",
    "- if any error, correct it using the binary parity vector corresponding value,\n",
    "- then extract the 4 bits of data and group them using the 3 signatures.\n",
    "\n",
    "![](ar_marker_pics/flyer-hamming-s2.png)\n",
    "\n",
    "## Step 3: Calculate the Code\n",
    "\n",
    "Finally, using the bits of data contained in the 3 signatures, compute the code that corresponds to this binary vector.\n",
    "\n",
    "![](ar_marker_pics/flyer-hamming-s3.png)\n",
    "\n",
    "Once errors are checked and corrected, the 3 signatures (green, red and blue areas) are used to generate the binary code to decipher (12 bits aligned at the bottom). So our marker has 5 x 5 bits (black or white squares) which give us:\n",
    "\n",
    "- 4 are used to understand orientation, the outter corners\n",
    "- 9 are used to control errors and correct (if possible)\n",
    "- 12 are used for our id\n",
    "\n",
    "Thus we have a marker than can have a $2^{12}$ bit number with a value between 0 - 4096.\n",
    "\n",
    "\n",
    "# Let's Try It Out\n",
    "\n",
    "Here is what we are going to do:\n",
    "\n",
    "1. setup our environment\n",
    "1. play with Hamming Codes to understand better\n",
    "1. read in the image\n",
    "1. run it through the `ar_markers` detection function\n",
    "\n",
    "------"
   ]
  },
  {
   "cell_type": "code",
   "execution_count": 4,
   "metadata": {},
   "outputs": [],
   "source": [
    "def fix_binary(msg):\n",
    "    # now, use the modulas operator to ensure it is a binary number\n",
    "    ans = []\n",
    "    for val in msg:\n",
    "        ans.append(val%2)\n",
    "    return np.array(ans)\n",
    "\n",
    "# encode a message\n",
    "G = np.array([\n",
    "    [1,1,0,1],\n",
    "    [1,0,1,1],\n",
    "    [1,0,0,0],\n",
    "    [0,1,1,1],\n",
    "    [0,1,0,0],\n",
    "    [0,0,1,0],\n",
    "    [0,0,0,1]\n",
    "])\n",
    "\n",
    "# decode and encoded message\n",
    "R = np.array([\n",
    "    [0, 0, 1, 0, 0, 0, 0],\n",
    "    [0, 0, 0, 0, 1, 0, 0],\n",
    "    [0, 0, 0, 0, 0, 1, 0],\n",
    "    [0, 0, 0, 0, 0, 0, 1],\n",
    "])\n",
    "\n",
    "# check parity\n",
    "H = np.array([\n",
    "    [1, 0, 1, 0, 1, 0, 1],\n",
    "    [0, 1, 1, 0, 0, 1, 1],\n",
    "    [0, 0, 0, 1, 1, 1, 1],\n",
    "])\n",
    "\n",
    "# a 4 bit message we want to send\n",
    "msg = np.array([1,0,1,1])"
   ]
  },
  {
   "cell_type": "code",
   "execution_count": 5,
   "metadata": {},
   "outputs": [
    {
     "name": "stdout",
     "output_type": "stream",
     "text": [
      "encoded msg: [0 1 1 0 0 1 1]\n",
      "parity check: [0 0 0]\n",
      "decoded message: [1 0 1 1]\n",
      "Does msg == decoded msg? [ True  True  True  True]\n"
     ]
    }
   ],
   "source": [
    "e = fix_binary(G.dot(msg))\n",
    "print('encoded msg:', e)\n",
    "\n",
    "parity_check = fix_binary(H.dot(e))\n",
    "print('parity check:', parity_check)\n",
    "\n",
    "decoded_msg = R.dot(e)\n",
    "print('decoded message:', decoded_msg)\n",
    "\n",
    "print('Does msg == decoded msg?', msg == decoded_msg)"
   ]
  },
  {
   "cell_type": "markdown",
   "metadata": {},
   "source": [
    "### 1 Error\n",
    "\n",
    "We are going to corrupt each bit one at a time and detect it ... we are not fixing it. Notice if you read the parity code from right to left [$bit_0$, $bit_1$, $bit_2$], you can determine which bit needs to get flipped so the message is correct again."
   ]
  },
  {
   "cell_type": "code",
   "execution_count": 6,
   "metadata": {},
   "outputs": [
    {
     "name": "stdout",
     "output_type": "stream",
     "text": [
      "Corrupt bit 1 --------------------------------------\n",
      "  parity check: [1 0 0]\n",
      "Corrupt bit 2 --------------------------------------\n",
      "  parity check: [0 1 0]\n",
      "Corrupt bit 3 --------------------------------------\n",
      "  parity check: [1 1 0]\n",
      "Corrupt bit 4 --------------------------------------\n",
      "  parity check: [0 0 1]\n",
      "Corrupt bit 5 --------------------------------------\n",
      "  parity check: [1 0 1]\n",
      "Corrupt bit 6 --------------------------------------\n",
      "  parity check: [0 1 1]\n",
      "Corrupt bit 7 --------------------------------------\n",
      "  parity check: [1 1 1]\n"
     ]
    }
   ],
   "source": [
    "for i in range(7):\n",
    "    e = fix_binary(G.dot(msg))\n",
    "    print('Corrupt bit', i+1, '--------------------------------------')\n",
    "    e[i] = 0 if e[i] == 1 else 1\n",
    "#     print('  encoded msg:', e)  # this is DIFFERENT than before\n",
    "\n",
    "    parity_check = fix_binary(H.dot(e))\n",
    "    print('  parity check:', parity_check)\n",
    "\n",
    "    decoded_msg = R.dot(e)\n",
    "#     print('  decoded message:', decoded_msg)\n",
    "\n",
    "#     print('  Does msg == decoded msg?', msg == decoded_msg)"
   ]
  },
  {
   "cell_type": "markdown",
   "metadata": {},
   "source": [
    "### 2 Errors\n",
    "\n",
    "We are going to corrupt each bit one at a time and detect it ... we are not fixing it. Notice now, we can't identify the incorrect bit, but we know something bad is happening. Notice corrupted bit 1 and 6 give the same parity check: [1, 1, 0]. If you need protection from more than 1 error, then you need to select a different algorithm."
   ]
  },
  {
   "cell_type": "code",
   "execution_count": 7,
   "metadata": {},
   "outputs": [
    {
     "name": "stdout",
     "output_type": "stream",
     "text": [
      "Corrupt bit 1 and 2 --------------------------------------\n",
      "  parity check: [1 1 0]\n",
      "Corrupt bit 2 and 3 --------------------------------------\n",
      "  parity check: [1 0 0]\n",
      "Corrupt bit 3 and 4 --------------------------------------\n",
      "  parity check: [1 1 1]\n",
      "Corrupt bit 4 and 5 --------------------------------------\n",
      "  parity check: [1 0 0]\n",
      "Corrupt bit 5 and 6 --------------------------------------\n",
      "  parity check: [1 1 0]\n",
      "Corrupt bit 6 and 7 --------------------------------------\n",
      "  parity check: [1 0 0]\n",
      "Corrupt bit 7 and 1 --------------------------------------\n",
      "  parity check: [0 1 1]\n"
     ]
    }
   ],
   "source": [
    "for i in range(7):\n",
    "    e = fix_binary(G.dot(msg))\n",
    "    e[i] = 0 if e[i] == 1 else 1\n",
    "    j = (i+1)%7\n",
    "    e[j] = 0 if e[j] == 1 else 1\n",
    "    print('Corrupt bit', i+1, 'and', j+1, '--------------------------------------')\n",
    "\n",
    "    parity_check = fix_binary(H.dot(e))\n",
    "    print('  parity check:', parity_check)\n",
    "\n",
    "    decoded_msg = R.dot(e)"
   ]
  },
  {
   "cell_type": "markdown",
   "metadata": {},
   "source": [
    "### Let's Try Markers Now"
   ]
  },
  {
   "cell_type": "code",
   "execution_count": 8,
   "metadata": {
    "scrolled": true
   },
   "outputs": [
    {
     "name": "stdout",
     "output_type": "stream",
     "text": [
      "image dimensions [width, height, color depth]: (210, 210, 3)\n"
     ]
    },
    {
     "data": {
      "image/png": "[encoded data removed]",
      "text/plain": [
       "<matplotlib.figure.Figure at 0x1087114d0>"
      ]
     },
     "metadata": {},
     "output_type": "display_data"
    }
   ],
   "source": [
    "img = cv2.imread('ar_marker_pics/flyer-hamming.png')\n",
    "plt.imshow(img);\n",
    "print('image dimensions [width, height, color depth]:', img.shape)"
   ]
  },
  {
   "cell_type": "code",
   "execution_count": 9,
   "metadata": {
    "collapsed": true
   },
   "outputs": [],
   "source": [
    "markers = detect_markers(img)"
   ]
  },
  {
   "cell_type": "code",
   "execution_count": 10,
   "metadata": {},
   "outputs": [
    {
     "name": "stdout",
     "output_type": "stream",
     "text": [
      "3388\n"
     ]
    }
   ],
   "source": [
    "# let's print the id of the marker\n",
    "print(markers[0].id)"
   ]
  },
  {
   "cell_type": "markdown",
   "metadata": {},
   "source": [
    "# Computer Exercise\n",
    "\n",
    "Write a python program, using ar_marker, that:\n",
    "\n",
    "1. grabs an image from the camera\n",
    "1. reads the marker\n",
    "1. displays a window showing the marker and the id found\n",
    "1. prints the id number\n",
    "1. pressing q quits the program"
   ]
  },
  {
   "cell_type": "markdown",
   "metadata": {},
   "source": [
    "\n",
    "---\n",
    "\n",
    "<a rel=\"license\" href=\"http://creativecommons.org/licenses/by-sa/4.0/\"><img alt=\"Creative Commons License\" style=\"border-width:0\" src=\"https://i.creativecommons.org/l/by-sa/4.0/88x31.png\" /></a><br />This work is licensed under a <a rel=\"license\" href=\"http://creativecommons.org/licenses/by-sa/4.0/\">Creative Commons Attribution-ShareAlike 4.0 International License</a>."
   ]
  }
 ],
 "metadata": {
  "kernelspec": {
   "display_name": "Python 2",
   "language": "python",
   "name": "python2"
  },
  "language_info": {
   "codemirror_mode": {
    "name": "ipython",
    "version": 2
   },
   "file_extension": ".py",
   "mimetype": "text/x-python",
   "name": "python",
   "nbconvert_exporter": "python",
   "pygments_lexer": "ipython2",
   "version": "2.7.13"
  }
 },
 "nbformat": 4,
 "nbformat_minor": 2
}
